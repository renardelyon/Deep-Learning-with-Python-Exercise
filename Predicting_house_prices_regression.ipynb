{
  "nbformat": 4,
  "nbformat_minor": 0,
  "metadata": {
    "colab": {
      "name": "Predicting house prices: regression.ipynb",
      "provenance": [],
      "authorship_tag": "ABX9TyNb00GDWaaiU4Cd0I+nN/kI",
      "include_colab_link": true
    },
    "kernelspec": {
      "name": "python3",
      "display_name": "Python 3"
    },
    "language_info": {
      "name": "python"
    }
  },
  "cells": [
    {
      "cell_type": "markdown",
      "metadata": {
        "id": "view-in-github",
        "colab_type": "text"
      },
      "source": [
        "<a href=\"https://colab.research.google.com/github/renardelyon/Deep-Learning-with-Python-Exercise/blob/main/Predicting_house_prices_regression.ipynb\" target=\"_parent\"><img src=\"https://colab.research.google.com/assets/colab-badge.svg\" alt=\"Open In Colab\"/></a>"
      ]
    },
    {
      "cell_type": "code",
      "metadata": {
        "colab": {
          "base_uri": "https://localhost:8080/"
        },
        "id": "rbQGokXwX8p6",
        "outputId": "0b10290b-f6e3-4346-9bc4-519ce4585a2f"
      },
      "source": [
        "from tensorflow.keras.datasets import boston_housing\n",
        "\n",
        "(train_features,train_label),(test_features,test_label)=boston_housing.load_data()"
      ],
      "execution_count": 2,
      "outputs": [
        {
          "output_type": "stream",
          "text": [
            "Downloading data from https://storage.googleapis.com/tensorflow/tf-keras-datasets/boston_housing.npz\n",
            "57344/57026 [==============================] - 0s 0us/step\n"
          ],
          "name": "stdout"
        }
      ]
    },
    {
      "cell_type": "code",
      "metadata": {
        "colab": {
          "base_uri": "https://localhost:8080/"
        },
        "id": "2bAMLZwuYZ4q",
        "outputId": "fb941fde-7081-4bf4-a8f5-edbccbf9da80"
      },
      "source": [
        "train_features.shape"
      ],
      "execution_count": 3,
      "outputs": [
        {
          "output_type": "execute_result",
          "data": {
            "text/plain": [
              "(404, 13)"
            ]
          },
          "metadata": {
            "tags": []
          },
          "execution_count": 3
        }
      ]
    },
    {
      "cell_type": "code",
      "metadata": {
        "colab": {
          "base_uri": "https://localhost:8080/"
        },
        "id": "CZdsyqlFYeah",
        "outputId": "dde26e67-3422-4ea8-9d80-a25f9a48e8e4"
      },
      "source": [
        "train_label.shape"
      ],
      "execution_count": 4,
      "outputs": [
        {
          "output_type": "execute_result",
          "data": {
            "text/plain": [
              "(404,)"
            ]
          },
          "metadata": {
            "tags": []
          },
          "execution_count": 4
        }
      ]
    },
    {
      "cell_type": "code",
      "metadata": {
        "colab": {
          "base_uri": "https://localhost:8080/"
        },
        "id": "R20hj3pVYhoB",
        "outputId": "56f69f26-c496-48ad-b5e8-cea0a49347db"
      },
      "source": [
        "train_label[:10]"
      ],
      "execution_count": 5,
      "outputs": [
        {
          "output_type": "execute_result",
          "data": {
            "text/plain": [
              "array([15.2, 42.3, 50. , 21.1, 17.7, 18.5, 11.3, 15.6, 15.6, 14.4])"
            ]
          },
          "metadata": {
            "tags": []
          },
          "execution_count": 5
        }
      ]
    },
    {
      "cell_type": "code",
      "metadata": {
        "colab": {
          "base_uri": "https://localhost:8080/"
        },
        "id": "PpxblMe5ZeDt",
        "outputId": "13d16029-bc3c-4ffe-9ee1-798a9e845154"
      },
      "source": [
        "train_features[:3]"
      ],
      "execution_count": 6,
      "outputs": [
        {
          "output_type": "execute_result",
          "data": {
            "text/plain": [
              "array([[1.23247e+00, 0.00000e+00, 8.14000e+00, 0.00000e+00, 5.38000e-01,\n",
              "        6.14200e+00, 9.17000e+01, 3.97690e+00, 4.00000e+00, 3.07000e+02,\n",
              "        2.10000e+01, 3.96900e+02, 1.87200e+01],\n",
              "       [2.17700e-02, 8.25000e+01, 2.03000e+00, 0.00000e+00, 4.15000e-01,\n",
              "        7.61000e+00, 1.57000e+01, 6.27000e+00, 2.00000e+00, 3.48000e+02,\n",
              "        1.47000e+01, 3.95380e+02, 3.11000e+00],\n",
              "       [4.89822e+00, 0.00000e+00, 1.81000e+01, 0.00000e+00, 6.31000e-01,\n",
              "        4.97000e+00, 1.00000e+02, 1.33250e+00, 2.40000e+01, 6.66000e+02,\n",
              "        2.02000e+01, 3.75520e+02, 3.26000e+00]])"
            ]
          },
          "metadata": {
            "tags": []
          },
          "execution_count": 6
        }
      ]
    },
    {
      "cell_type": "code",
      "metadata": {
        "id": "kSFkXcq0YzlB"
      },
      "source": [
        "from sklearn.preprocessing import StandardScaler\n",
        "\n",
        "scaler = StandardScaler()\n",
        "train_features = scaler.fit_transform(train_features)\n",
        "test_features = scaler.fit_transform(test_features)"
      ],
      "execution_count": 7,
      "outputs": []
    },
    {
      "cell_type": "code",
      "metadata": {
        "id": "R5l8fms5Zoyq"
      },
      "source": [
        "import tensorflow as tf\n",
        "def build_model(X,y,val_data,X_test,y_test,num_epochs):\n",
        "  model = tf.keras.Sequential([\n",
        "          tf.keras.layers.Dense(64,activation='relu',\n",
        "                              input_shape=(train_features.shape[1],)),\n",
        "          tf.keras.layers.Dense(64,activation='relu'),\n",
        "          tf.keras.layers.Dense(1)      \n",
        "  ])\n",
        "  \n",
        "  model.compile(optimizer='adam',\n",
        "              loss='mse',\n",
        "              metrics=['mae'])\n",
        "  \n",
        "  history = model.fit(X,y,batch_size=1,epochs=num_epochs,\n",
        "                      validation_data = val_data)\n",
        "  val_mse, val_mae = model.evaluate(X_test,y_test)\n",
        "\n",
        "  return history,val_mse,val_mae\n"
      ],
      "execution_count": 8,
      "outputs": []
    },
    {
      "cell_type": "code",
      "metadata": {
        "id": "2XWBPaPlas_6"
      },
      "source": [
        "from sklearn.model_selection import KFold\n",
        "\n",
        "k=4\n",
        "kf = KFold(n_splits=k)\n",
        "all_mae_history = []\n",
        "for train_idx,test_idx in kf.split(train_features):\n",
        "  X_train,X_val = train_features[train_idx],train_features[test_idx]\n",
        "  y_train,y_val = train_label[train_idx],train_label[test_idx]\n",
        "\n",
        "  history,val_mse,val_mae = build_model(X=X_train,y=y_train,\n",
        "                                  val_data=(X_val,y_val),\n",
        "                                  X_test=test_features,\n",
        "                                  y_test=test_label,\n",
        "                                  num_epochs=500)\n",
        "  mae_history = history.history['val_mae']\n",
        "  all_mae_history.append(mae_history)\n"
      ],
      "execution_count": null,
      "outputs": []
    },
    {
      "cell_type": "code",
      "metadata": {
        "id": "Q6mINiwOp-zC"
      },
      "source": [
        "mae_history = np.array(all_mae_history)"
      ],
      "execution_count": 23,
      "outputs": []
    },
    {
      "cell_type": "code",
      "metadata": {
        "colab": {
          "base_uri": "https://localhost:8080/"
        },
        "id": "Cwb1AoiWYa2G",
        "outputId": "c56d7b67-2c2b-44f3-967d-57e5cb2c0b16"
      },
      "source": [
        "import numpy as np\n",
        "\n",
        "mean_mae_history = np.mean(all_mae_history,axis=0)\n",
        "mean_mae_history.shape"
      ],
      "execution_count": 24,
      "outputs": [
        {
          "output_type": "execute_result",
          "data": {
            "text/plain": [
              "(500,)"
            ]
          },
          "metadata": {
            "tags": []
          },
          "execution_count": 24
        }
      ]
    },
    {
      "cell_type": "code",
      "metadata": {
        "colab": {
          "base_uri": "https://localhost:8080/",
          "height": 279
        },
        "id": "VKCScveyZhhj",
        "outputId": "24b17dd0-fb22-4032-b0ac-9d1a53986ea1"
      },
      "source": [
        "import matplotlib.pyplot as plt\n",
        "\n",
        "epoch = range(mean_mae_history.shape[0])\n",
        "plt.plot(epoch,mean_mae_history,'b-')\n",
        "plt.xlabel('epoch')\n",
        "plt.ylabel('val MAE')\n",
        "plt.show()"
      ],
      "execution_count": 27,
      "outputs": [
        {
          "output_type": "display_data",
          "data": {
            "image/png": "[encoded data removed]",
            "text/plain": [
              "<Figure size 432x288 with 1 Axes>"
            ]
          },
          "metadata": {
            "tags": [],
            "needs_background": "light"
          }
        }
      ]
    },
    {
      "cell_type": "code",
      "metadata": {
        "colab": {
          "base_uri": "https://localhost:8080/",
          "height": 279
        },
        "id": "BBjNGo6jifmf",
        "outputId": "d962f80e-0b39-4093-bd4c-4e94a4255860"
      },
      "source": [
        "def smooth_curve(points, factor=0.9):\n",
        "  smoothed_points = []\n",
        "  for point in points:\n",
        "    if smoothed_points:\n",
        "      previous = smoothed_points[-1]\n",
        "      smoothed_points.append(previous * factor + point * (1 - factor))\n",
        "    else:\n",
        "      smoothed_points.append(point)\n",
        "  return smoothed_points\n",
        "smooth_mae_history = smooth_curve(mean_mae_history[10:])\n",
        "plt.plot(range(1, len(smooth_mae_history) + 1), smooth_mae_history)\n",
        "plt.xlabel('Epochs')\n",
        "plt.ylabel('Validation MAE')\n",
        "plt.show()"
      ],
      "execution_count": 29,
      "outputs": [
        {
          "output_type": "display_data",
          "data": {
            "image/png": "[encoded data removed]",
            "text/plain": [
              "<Figure size 432x288 with 1 Axes>"
            ]
          },
          "metadata": {
            "tags": [],
            "needs_background": "light"
          }
        }
      ]
    },
    {
      "cell_type": "code",
      "metadata": {
        "colab": {
          "base_uri": "https://localhost:8080/"
        },
        "id": "D4HXiEbwjIPY",
        "outputId": "cc876306-3c1f-42b4-cb10-d091a3690691"
      },
      "source": [
        "history, test_mse, test_mae = build_model(X=train_features,y=train_label,val_data=None,\n",
        "                                          X_test = test_features,y_test=test_label,\n",
        "                                          num_epochs=130)\n",
        "print(f'test mae score:{test_mae}')"
      ],
      "execution_count": 30,
      "outputs": [
        {
          "output_type": "stream",
          "text": [
            "Epoch 1/130\n",
            "404/404 [==============================] - 1s 1ms/step - loss: 344.1069 - mae: 15.2951\n",
            "Epoch 2/130\n",
            "404/404 [==============================] - 0s 1ms/step - loss: 18.9055 - mae: 3.0895\n",
            "Epoch 3/130\n",
            "404/404 [==============================] - 0s 1ms/step - loss: 18.8985 - mae: 3.0071\n",
            "Epoch 4/130\n",
            "404/404 [==============================] - 0s 1ms/step - loss: 12.1419 - mae: 2.4385\n",
            "Epoch 5/130\n",
            "404/404 [==============================] - 0s 1ms/step - loss: 11.8687 - mae: 2.5692\n",
            "Epoch 6/130\n",
            "404/404 [==============================] - 0s 1ms/step - loss: 12.8674 - mae: 2.5374\n",
            "Epoch 7/130\n",
            "404/404 [==============================] - 0s 1ms/step - loss: 11.3504 - mae: 2.2761\n",
            "Epoch 8/130\n",
            "404/404 [==============================] - 0s 1ms/step - loss: 9.1945 - mae: 2.2274\n",
            "Epoch 9/130\n",
            "404/404 [==============================] - 0s 1ms/step - loss: 9.2012 - mae: 2.2862\n",
            "Epoch 10/130\n",
            "404/404 [==============================] - 0s 1ms/step - loss: 9.3486 - mae: 2.3151\n",
            "Epoch 11/130\n",
            "404/404 [==============================] - 0s 1ms/step - loss: 7.8125 - mae: 1.9931\n",
            "Epoch 12/130\n",
            "404/404 [==============================] - 0s 1ms/step - loss: 6.2778 - mae: 1.8825\n",
            "Epoch 13/130\n",
            "404/404 [==============================] - 0s 1ms/step - loss: 9.1757 - mae: 2.1337\n",
            "Epoch 14/130\n",
            "404/404 [==============================] - 0s 1ms/step - loss: 9.1377 - mae: 2.1623\n",
            "Epoch 15/130\n",
            "404/404 [==============================] - 0s 1ms/step - loss: 8.7652 - mae: 2.1004\n",
            "Epoch 16/130\n",
            "404/404 [==============================] - 0s 1ms/step - loss: 10.6692 - mae: 2.2747\n",
            "Epoch 17/130\n",
            "404/404 [==============================] - 0s 1ms/step - loss: 8.2448 - mae: 2.1043\n",
            "Epoch 18/130\n",
            "404/404 [==============================] - 0s 1ms/step - loss: 6.4986 - mae: 1.9173\n",
            "Epoch 19/130\n",
            "404/404 [==============================] - 0s 1ms/step - loss: 6.1870 - mae: 1.7643\n",
            "Epoch 20/130\n",
            "404/404 [==============================] - 0s 1ms/step - loss: 7.4936 - mae: 1.9228\n",
            "Epoch 21/130\n",
            "404/404 [==============================] - 0s 1ms/step - loss: 6.4923 - mae: 1.8635\n",
            "Epoch 22/130\n",
            "404/404 [==============================] - 0s 1ms/step - loss: 7.2621 - mae: 1.9413\n",
            "Epoch 23/130\n",
            "404/404 [==============================] - 0s 1ms/step - loss: 7.8982 - mae: 1.8776\n",
            "Epoch 24/130\n",
            "404/404 [==============================] - 0s 1ms/step - loss: 6.8028 - mae: 1.8810\n",
            "Epoch 25/130\n",
            "404/404 [==============================] - 0s 1ms/step - loss: 5.5405 - mae: 1.7083\n",
            "Epoch 26/130\n",
            "404/404 [==============================] - 0s 1ms/step - loss: 5.9134 - mae: 1.6616\n",
            "Epoch 27/130\n",
            "404/404 [==============================] - 0s 1ms/step - loss: 5.1425 - mae: 1.6351\n",
            "Epoch 28/130\n",
            "404/404 [==============================] - 0s 1ms/step - loss: 4.8668 - mae: 1.6382\n",
            "Epoch 29/130\n",
            "404/404 [==============================] - 0s 1ms/step - loss: 6.6945 - mae: 1.8222\n",
            "Epoch 30/130\n",
            "404/404 [==============================] - 0s 1ms/step - loss: 7.1444 - mae: 1.8480\n",
            "Epoch 31/130\n",
            "404/404 [==============================] - 0s 1ms/step - loss: 5.0892 - mae: 1.6223\n",
            "Epoch 32/130\n",
            "404/404 [==============================] - 0s 1ms/step - loss: 4.3240 - mae: 1.5818\n",
            "Epoch 33/130\n",
            "404/404 [==============================] - 0s 1ms/step - loss: 4.4149 - mae: 1.5889\n",
            "Epoch 34/130\n",
            "404/404 [==============================] - 0s 1ms/step - loss: 4.8380 - mae: 1.6452\n",
            "Epoch 35/130\n",
            "404/404 [==============================] - 0s 1ms/step - loss: 5.4158 - mae: 1.7457\n",
            "Epoch 36/130\n",
            "404/404 [==============================] - 0s 1ms/step - loss: 4.4687 - mae: 1.5613\n",
            "Epoch 37/130\n",
            "404/404 [==============================] - 0s 1ms/step - loss: 4.2623 - mae: 1.5114\n",
            "Epoch 38/130\n",
            "404/404 [==============================] - 0s 1ms/step - loss: 4.5793 - mae: 1.5366\n",
            "Epoch 39/130\n",
            "404/404 [==============================] - 0s 1ms/step - loss: 5.0034 - mae: 1.7462\n",
            "Epoch 40/130\n",
            "404/404 [==============================] - 0s 1ms/step - loss: 5.4180 - mae: 1.7493\n",
            "Epoch 41/130\n",
            "404/404 [==============================] - 0s 1ms/step - loss: 3.8386 - mae: 1.4655\n",
            "Epoch 42/130\n",
            "404/404 [==============================] - 0s 1ms/step - loss: 4.6941 - mae: 1.5293\n",
            "Epoch 43/130\n",
            "404/404 [==============================] - 0s 1ms/step - loss: 3.3301 - mae: 1.3194\n",
            "Epoch 44/130\n",
            "404/404 [==============================] - 0s 1ms/step - loss: 4.2656 - mae: 1.5652\n",
            "Epoch 45/130\n",
            "404/404 [==============================] - 0s 1ms/step - loss: 4.3165 - mae: 1.5292\n",
            "Epoch 46/130\n",
            "404/404 [==============================] - 0s 1ms/step - loss: 4.5361 - mae: 1.5537\n",
            "Epoch 47/130\n",
            "404/404 [==============================] - 0s 1ms/step - loss: 4.0275 - mae: 1.5228\n",
            "Epoch 48/130\n",
            "404/404 [==============================] - 0s 1ms/step - loss: 3.5253 - mae: 1.4393\n",
            "Epoch 49/130\n",
            "404/404 [==============================] - 0s 1ms/step - loss: 3.9632 - mae: 1.5061\n",
            "Epoch 50/130\n",
            "404/404 [==============================] - 0s 1ms/step - loss: 3.7511 - mae: 1.4612\n",
            "Epoch 51/130\n",
            "404/404 [==============================] - 0s 1ms/step - loss: 3.1933 - mae: 1.3474\n",
            "Epoch 52/130\n",
            "404/404 [==============================] - 0s 1ms/step - loss: 4.0116 - mae: 1.4895\n",
            "Epoch 53/130\n",
            "404/404 [==============================] - 0s 1ms/step - loss: 3.7186 - mae: 1.4589\n",
            "Epoch 54/130\n",
            "404/404 [==============================] - 0s 1ms/step - loss: 4.5142 - mae: 1.5501\n",
            "Epoch 55/130\n",
            "404/404 [==============================] - 0s 1ms/step - loss: 3.9256 - mae: 1.4777\n",
            "Epoch 56/130\n",
            "404/404 [==============================] - 0s 1ms/step - loss: 3.8312 - mae: 1.4676\n",
            "Epoch 57/130\n",
            "404/404 [==============================] - 0s 1ms/step - loss: 3.3892 - mae: 1.3733\n",
            "Epoch 58/130\n",
            "404/404 [==============================] - 0s 1ms/step - loss: 3.4882 - mae: 1.4474\n",
            "Epoch 59/130\n",
            "404/404 [==============================] - 0s 1ms/step - loss: 2.9249 - mae: 1.2768\n",
            "Epoch 60/130\n",
            "404/404 [==============================] - 0s 1ms/step - loss: 3.1502 - mae: 1.3273\n",
            "Epoch 61/130\n",
            "404/404 [==============================] - 0s 1ms/step - loss: 2.7804 - mae: 1.2441\n",
            "Epoch 62/130\n",
            "404/404 [==============================] - 0s 1ms/step - loss: 2.7153 - mae: 1.2480\n",
            "Epoch 63/130\n",
            "404/404 [==============================] - 0s 1ms/step - loss: 3.6344 - mae: 1.4318\n",
            "Epoch 64/130\n",
            "404/404 [==============================] - 0s 1ms/step - loss: 2.9662 - mae: 1.2975\n",
            "Epoch 65/130\n",
            "404/404 [==============================] - 0s 1ms/step - loss: 2.5703 - mae: 1.2127\n",
            "Epoch 66/130\n",
            "404/404 [==============================] - 0s 1ms/step - loss: 3.5160 - mae: 1.3882\n",
            "Epoch 67/130\n",
            "404/404 [==============================] - 0s 1ms/step - loss: 4.2253 - mae: 1.4631\n",
            "Epoch 68/130\n",
            "404/404 [==============================] - 0s 1ms/step - loss: 2.8746 - mae: 1.2298\n",
            "Epoch 69/130\n",
            "404/404 [==============================] - 0s 1ms/step - loss: 3.6015 - mae: 1.4049\n",
            "Epoch 70/130\n",
            "404/404 [==============================] - 0s 1ms/step - loss: 2.7122 - mae: 1.2050\n",
            "Epoch 71/130\n",
            "404/404 [==============================] - 0s 1ms/step - loss: 4.0542 - mae: 1.5015\n",
            "Epoch 72/130\n",
            "404/404 [==============================] - 0s 1ms/step - loss: 3.8402 - mae: 1.4207\n",
            "Epoch 73/130\n",
            "404/404 [==============================] - 0s 1ms/step - loss: 3.2182 - mae: 1.3520\n",
            "Epoch 74/130\n",
            "404/404 [==============================] - 0s 1ms/step - loss: 2.6742 - mae: 1.2342\n",
            "Epoch 75/130\n",
            "404/404 [==============================] - 0s 1ms/step - loss: 3.3972 - mae: 1.3475\n",
            "Epoch 76/130\n",
            "404/404 [==============================] - 0s 1ms/step - loss: 3.0300 - mae: 1.3073\n",
            "Epoch 77/130\n",
            "404/404 [==============================] - 0s 1ms/step - loss: 2.9722 - mae: 1.3258\n",
            "Epoch 78/130\n",
            "404/404 [==============================] - 0s 1ms/step - loss: 3.3479 - mae: 1.3579\n",
            "Epoch 79/130\n",
            "404/404 [==============================] - 0s 1ms/step - loss: 2.6176 - mae: 1.2773\n",
            "Epoch 80/130\n",
            "404/404 [==============================] - 0s 1ms/step - loss: 2.9311 - mae: 1.2650\n",
            "Epoch 81/130\n",
            "404/404 [==============================] - 0s 1ms/step - loss: 2.5940 - mae: 1.2018\n",
            "Epoch 82/130\n",
            "404/404 [==============================] - 0s 1ms/step - loss: 2.9302 - mae: 1.2970\n",
            "Epoch 83/130\n",
            "404/404 [==============================] - 0s 1ms/step - loss: 3.2602 - mae: 1.3582\n",
            "Epoch 84/130\n",
            "404/404 [==============================] - 0s 1ms/step - loss: 2.1431 - mae: 1.0847\n",
            "Epoch 85/130\n",
            "404/404 [==============================] - 0s 1ms/step - loss: 3.3402 - mae: 1.3700\n",
            "Epoch 86/130\n",
            "404/404 [==============================] - 0s 1ms/step - loss: 2.4589 - mae: 1.2324\n",
            "Epoch 87/130\n",
            "404/404 [==============================] - 0s 1ms/step - loss: 2.6505 - mae: 1.1776\n",
            "Epoch 88/130\n",
            "404/404 [==============================] - 0s 1ms/step - loss: 2.3810 - mae: 1.1674\n",
            "Epoch 89/130\n",
            "404/404 [==============================] - 0s 1ms/step - loss: 2.6860 - mae: 1.2322\n",
            "Epoch 90/130\n",
            "404/404 [==============================] - 0s 1ms/step - loss: 2.3522 - mae: 1.1548\n",
            "Epoch 91/130\n",
            "404/404 [==============================] - 0s 1ms/step - loss: 2.1356 - mae: 1.0807\n",
            "Epoch 92/130\n",
            "404/404 [==============================] - 0s 1ms/step - loss: 2.5074 - mae: 1.2254\n",
            "Epoch 93/130\n",
            "404/404 [==============================] - 0s 1ms/step - loss: 2.5707 - mae: 1.2509\n",
            "Epoch 94/130\n",
            "404/404 [==============================] - 0s 1ms/step - loss: 2.6575 - mae: 1.1982\n",
            "Epoch 95/130\n",
            "404/404 [==============================] - 0s 1ms/step - loss: 2.0585 - mae: 1.0779\n",
            "Epoch 96/130\n",
            "404/404 [==============================] - 0s 1ms/step - loss: 3.4805 - mae: 1.4105\n",
            "Epoch 97/130\n",
            "404/404 [==============================] - 0s 1ms/step - loss: 3.0119 - mae: 1.2911\n",
            "Epoch 98/130\n",
            "404/404 [==============================] - 0s 1ms/step - loss: 2.8861 - mae: 1.2991\n",
            "Epoch 99/130\n",
            "404/404 [==============================] - 0s 1ms/step - loss: 2.3784 - mae: 1.1257\n",
            "Epoch 100/130\n",
            "404/404 [==============================] - 0s 1ms/step - loss: 1.9301 - mae: 1.0616\n",
            "Epoch 101/130\n",
            "404/404 [==============================] - 0s 1ms/step - loss: 2.4070 - mae: 1.1583\n",
            "Epoch 102/130\n",
            "404/404 [==============================] - 0s 1ms/step - loss: 2.0985 - mae: 1.1084\n",
            "Epoch 103/130\n",
            "404/404 [==============================] - 0s 1ms/step - loss: 2.1651 - mae: 1.0742\n",
            "Epoch 104/130\n",
            "404/404 [==============================] - 0s 1ms/step - loss: 2.7734 - mae: 1.1976\n",
            "Epoch 105/130\n",
            "404/404 [==============================] - 0s 1ms/step - loss: 2.4104 - mae: 1.1713\n",
            "Epoch 106/130\n",
            "404/404 [==============================] - 0s 1ms/step - loss: 3.4093 - mae: 1.2959\n",
            "Epoch 107/130\n",
            "404/404 [==============================] - 0s 1ms/step - loss: 1.9927 - mae: 1.0765\n",
            "Epoch 108/130\n",
            "404/404 [==============================] - 0s 1ms/step - loss: 2.0583 - mae: 1.0651\n",
            "Epoch 109/130\n",
            "404/404 [==============================] - 0s 1ms/step - loss: 2.1969 - mae: 1.1273\n",
            "Epoch 110/130\n",
            "404/404 [==============================] - 0s 1ms/step - loss: 2.0824 - mae: 1.0529\n",
            "Epoch 111/130\n",
            "404/404 [==============================] - 0s 1ms/step - loss: 2.2863 - mae: 1.1050\n",
            "Epoch 112/130\n",
            "404/404 [==============================] - 0s 1ms/step - loss: 1.9670 - mae: 1.0791\n",
            "Epoch 113/130\n",
            "404/404 [==============================] - 0s 1ms/step - loss: 2.1719 - mae: 1.1135\n",
            "Epoch 114/130\n",
            "404/404 [==============================] - 0s 1ms/step - loss: 1.9594 - mae: 1.0751\n",
            "Epoch 115/130\n",
            "404/404 [==============================] - 0s 1ms/step - loss: 1.9923 - mae: 1.0515\n",
            "Epoch 116/130\n",
            "404/404 [==============================] - 0s 1ms/step - loss: 2.6321 - mae: 1.1856\n",
            "Epoch 117/130\n",
            "404/404 [==============================] - 0s 1ms/step - loss: 2.9668 - mae: 1.3324\n",
            "Epoch 118/130\n",
            "404/404 [==============================] - 0s 1ms/step - loss: 1.9434 - mae: 1.0450\n",
            "Epoch 119/130\n",
            "404/404 [==============================] - 0s 1ms/step - loss: 1.8981 - mae: 1.0850\n",
            "Epoch 120/130\n",
            "404/404 [==============================] - 0s 1ms/step - loss: 2.3475 - mae: 1.0921\n",
            "Epoch 121/130\n",
            "404/404 [==============================] - 0s 1ms/step - loss: 2.0642 - mae: 1.0534\n",
            "Epoch 122/130\n",
            "404/404 [==============================] - 0s 1ms/step - loss: 1.5737 - mae: 0.9429\n",
            "Epoch 123/130\n",
            "404/404 [==============================] - 0s 1ms/step - loss: 2.2102 - mae: 1.0985\n",
            "Epoch 124/130\n",
            "404/404 [==============================] - 0s 1ms/step - loss: 1.8179 - mae: 1.0191\n",
            "Epoch 125/130\n",
            "404/404 [==============================] - 0s 1ms/step - loss: 1.6214 - mae: 0.9534\n",
            "Epoch 126/130\n",
            "404/404 [==============================] - 0s 1ms/step - loss: 2.1488 - mae: 1.1199\n",
            "Epoch 127/130\n",
            "404/404 [==============================] - 0s 1ms/step - loss: 2.6407 - mae: 1.2329\n",
            "Epoch 128/130\n",
            "404/404 [==============================] - 1s 1ms/step - loss: 2.1533 - mae: 1.0649\n",
            "Epoch 129/130\n",
            "404/404 [==============================] - 0s 1ms/step - loss: 2.6477 - mae: 1.1675\n",
            "Epoch 130/130\n",
            "404/404 [==============================] - 0s 1ms/step - loss: 1.7772 - mae: 1.0281\n",
            "4/4 [==============================] - 0s 4ms/step - loss: 14.4777 - mae: 2.7728\n",
            "test mae score:2.772773265838623\n"
          ],
          "name": "stdout"
        }
      ]
    },
    {
      "cell_type": "code",
      "metadata": {
        "id": "ycG0FtaxlGeG"
      },
      "source": [
        ""
      ],
      "execution_count": null,
      "outputs": []
    }
  ]
}