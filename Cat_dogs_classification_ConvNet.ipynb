{
  "nbformat": 4,
  "nbformat_minor": 0,
  "metadata": {
    "colab": {
      "name": "Cat-dogs classification: ConvNet.ipynb",
      "provenance": [],
      "toc_visible": true,
      "authorship_tag": "ABX9TyPWp0BsNnvidKYgH1tLCtg2",
      "include_colab_link": true
    },
    "kernelspec": {
      "name": "python3",
      "display_name": "Python 3"
    },
    "language_info": {
      "name": "python"
    },
    "accelerator": "GPU"
  },
  "cells": [
    {
      "cell_type": "markdown",
      "metadata": {
        "id": "view-in-github",
        "colab_type": "text"
      },
      "source": [
        "<a href=\"https://colab.research.google.com/github/renardelyon/Deep-Learning-with-Python-Exercise/blob/main/Cat_dogs_classification_ConvNet.ipynb\" target=\"_parent\"><img src=\"https://colab.research.google.com/assets/colab-badge.svg\" alt=\"Open In Colab\"/></a>"
      ]
    },
    {
      "cell_type": "code",
      "metadata": {
        "colab": {
          "base_uri": "https://localhost:8080/"
        },
        "id": "cb_Qz_5rk4sL",
        "outputId": "1c62ffd4-d05a-41ee-fa5b-96a1c5c74ccc"
      },
      "source": [
        "#download cat-dogs datasets\n",
        "!chmod 600 kaggle.json && (ls ~/.kaggle 2>/dev/null || mkdir ~/.kaggle) && mv kaggle.json ~/.kaggle/ && echo 'Done'\n",
        "!kaggle competitions download -c dogs-vs-cats\n"
      ],
      "execution_count": 1,
      "outputs": [
        {
          "output_type": "stream",
          "text": [
            "chmod: cannot access 'kaggle.json': No such file or directory\n",
            "Traceback (most recent call last):\n",
            "  File \"/usr/local/bin/kaggle\", line 5, in <module>\n",
            "    from kaggle.cli import main\n",
            "  File \"/usr/local/lib/python2.7/dist-packages/kaggle/__init__.py\", line 23, in <module>\n",
            "    api.authenticate()\n",
            "  File \"/usr/local/lib/python2.7/dist-packages/kaggle/api/kaggle_api_extended.py\", line 146, in authenticate\n",
            "    self.config_file, self.config_dir))\n",
            "IOError: Could not find kaggle.json. Make sure it's located in /root/.kaggle. Or use the environment method.\n"
          ],
          "name": "stdout"
        }
      ]
    },
    {
      "cell_type": "code",
      "metadata": {
        "id": "1Hl_szrUnSMp"
      },
      "source": [
        "import zipfile\n",
        "\n",
        "with zipfile.ZipFile('/content/test1.zip','r') as zip:\n",
        "  zip.extractall('/content')\n",
        "\n",
        "with zipfile.ZipFile('/content/train.zip','r') as zip:\n",
        "  zip.extractall('/content')"
      ],
      "execution_count": 8,
      "outputs": []
    },
    {
      "cell_type": "code",
      "metadata": {
        "id": "ojPNoDWFqQr4"
      },
      "source": [
        "import os\n",
        "#create train, test, and val dir\n",
        "base_dir = '/content'\n",
        "train_dir = os.path.join(base_dir,'Train')\n",
        "val_dir = os.path.join(base_dir,'Validation')\n",
        "test_dir = os.path.join(base_dir, 'Test')\n",
        "\n",
        "dirs = [train_dir,val_dir,test_dir]\n",
        "for dir in dirs:\n",
        "  os.mkdir(dir)"
      ],
      "execution_count": 9,
      "outputs": []
    },
    {
      "cell_type": "code",
      "metadata": {
        "id": "mwZxbs6iq0QR"
      },
      "source": [
        "animals = ['cats','dogs']\n",
        "for dir in dirs:\n",
        "  for animal in animals:\n",
        "    os.mkdir(os.path.join(dir,animal))\n",
        "    "
      ],
      "execution_count": 10,
      "outputs": []
    },
    {
      "cell_type": "code",
      "metadata": {
        "id": "RlHz6y653Hj9"
      },
      "source": [
        "ALL_PATH=[]\n",
        "for dir in dirs:\n",
        "  for animal in animals:\n",
        "    PATH = (os.path.join(dir,animal))\n",
        "    ALL_PATH.append(PATH)"
      ],
      "execution_count": 11,
      "outputs": []
    },
    {
      "cell_type": "code",
      "metadata": {
        "colab": {
          "base_uri": "https://localhost:8080/"
        },
        "id": "cW3l27uI3YFZ",
        "outputId": "101b3542-f267-4f1d-9611-0b3169cae9a2"
      },
      "source": [
        "ALL_PATH"
      ],
      "execution_count": 12,
      "outputs": [
        {
          "output_type": "execute_result",
          "data": {
            "text/plain": [
              "['/content/Train/cats',\n",
              " '/content/Train/dogs',\n",
              " '/content/Validation/cats',\n",
              " '/content/Validation/dogs',\n",
              " '/content/Test/cats',\n",
              " '/content/Test/dogs']"
            ]
          },
          "metadata": {
            "tags": []
          },
          "execution_count": 12
        }
      ]
    },
    {
      "cell_type": "code",
      "metadata": {
        "id": "c-kHC8ICq2Rq"
      },
      "source": [
        "total_fnames = []\n",
        "fnames = ['cat.{}.jpg'.format(i) for i in range(1000)]\n",
        "total_fnames.append(fnames)\n",
        "fnames = ['dog.{}.jpg'.format(i) for i in range(1000)]\n",
        "total_fnames.append(fnames)\n",
        "fnames = ['cat.{}.jpg'.format(i) for i in range(1000,1500)]\n",
        "total_fnames.append(fnames)\n",
        "fnames = ['dog.{}.jpg'.format(i) for i in range(1000,1500)]\n",
        "total_fnames.append(fnames)\n",
        "fnames = ['cat.{}.jpg'.format(i) for i in range(1500,2000)]\n",
        "total_fnames.append(fnames)\n",
        "fnames = ['dog.{}.jpg'.format(i) for i in range(1500,2000)]\n",
        "total_fnames.append(fnames)"
      ],
      "execution_count": 13,
      "outputs": []
    },
    {
      "cell_type": "code",
      "metadata": {
        "id": "6HrWzVzh2KnJ"
      },
      "source": [
        "import shutil\n",
        "\n",
        "for i,fnames in enumerate(total_fnames):\n",
        "  for fname in fnames:\n",
        "    src = os.path.join('/content/train',fname)\n",
        "    dst = os.path.join(ALL_PATH[i],fname)\n",
        "    shutil.copyfile(src,dst)\n",
        "    "
      ],
      "execution_count": 14,
      "outputs": []
    },
    {
      "cell_type": "code",
      "metadata": {
        "colab": {
          "base_uri": "https://localhost:8080/"
        },
        "id": "k0P96qg_2b9f",
        "outputId": "0aeebe56-fef4-45ca-b102-88cc68522092"
      },
      "source": [
        "print('total training cat images:', len(os.listdir(ALL_PATH[0])))\n",
        "print('total training dog images:', len(os.listdir(ALL_PATH[1])))\n",
        "print('total validation cat images:', len(os.listdir(ALL_PATH[2])))\n",
        "print('total validation dog images:', len(os.listdir(ALL_PATH[3])))\n",
        "print('total test cat images:', len(os.listdir(ALL_PATH[4])))\n",
        "print('total test dog images:', len(os.listdir(ALL_PATH[5])))\n"
      ],
      "execution_count": 15,
      "outputs": [
        {
          "output_type": "stream",
          "text": [
            "total training cat images: 1000\n",
            "total training dog images: 1000\n",
            "total validation cat images: 500\n",
            "total validation dog images: 500\n",
            "total test cat images: 500\n",
            "total test dog images: 500\n"
          ],
          "name": "stdout"
        }
      ]
    },
    {
      "cell_type": "code",
      "metadata": {
        "id": "MQ7SZSa25seM"
      },
      "source": [
        "import tensorflow as tf\n",
        "\n",
        "model = tf.keras.Sequential([\n",
        "        tf.keras.layers.Conv2D(32,(3,3),activation='relu',\n",
        "                               input_shape=(150,150,3)),\n",
        "        tf.keras.layers.MaxPooling2D(),\n",
        "        tf.keras.layers.Conv2D(64,(3,3),activation='relu'),\n",
        "        tf.keras.layers.MaxPooling2D(),\n",
        "        tf.keras.layers.Conv2D(128,(3,3),activation='relu'),\n",
        "        tf.keras.layers.MaxPooling2D(),\n",
        "        tf.keras.layers.Conv2D(128,(3,3),activation='relu'),\n",
        "        tf.keras.layers.MaxPooling2D(),\n",
        "        tf.keras.layers.Flatten(),\n",
        "        tf.keras.layers.Dense(512,activation='relu'),\n",
        "        tf.keras.layers.Dense(1,activation='sigmoid')\n",
        "])"
      ],
      "execution_count": null,
      "outputs": []
    },
    {
      "cell_type": "code",
      "metadata": {
        "colab": {
          "base_uri": "https://localhost:8080/"
        },
        "id": "X8KAUMgV6Yem",
        "outputId": "81d88755-c682-429a-d6a7-976a90b08a3c"
      },
      "source": [
        "model.summary()"
      ],
      "execution_count": null,
      "outputs": [
        {
          "output_type": "stream",
          "text": [
            "Model: \"sequential_1\"\n",
            "_________________________________________________________________\n",
            "Layer (type)                 Output Shape              Param #   \n",
            "=================================================================\n",
            "conv2d_5 (Conv2D)            (None, 148, 148, 32)      896       \n",
            "_________________________________________________________________\n",
            "max_pooling2d_4 (MaxPooling2 (None, 74, 74, 32)        0         \n",
            "_________________________________________________________________\n",
            "conv2d_6 (Conv2D)            (None, 72, 72, 64)        18496     \n",
            "_________________________________________________________________\n",
            "max_pooling2d_5 (MaxPooling2 (None, 36, 36, 64)        0         \n",
            "_________________________________________________________________\n",
            "conv2d_7 (Conv2D)            (None, 34, 34, 128)       73856     \n",
            "_________________________________________________________________\n",
            "max_pooling2d_6 (MaxPooling2 (None, 17, 17, 128)       0         \n",
            "_________________________________________________________________\n",
            "conv2d_8 (Conv2D)            (None, 15, 15, 128)       147584    \n",
            "_________________________________________________________________\n",
            "max_pooling2d_7 (MaxPooling2 (None, 7, 7, 128)         0         \n",
            "_________________________________________________________________\n",
            "flatten_1 (Flatten)          (None, 6272)              0         \n",
            "_________________________________________________________________\n",
            "dense_1 (Dense)              (None, 512)               3211776   \n",
            "_________________________________________________________________\n",
            "dense_2 (Dense)              (None, 1)                 513       \n",
            "=================================================================\n",
            "Total params: 3,453,121\n",
            "Trainable params: 3,453,121\n",
            "Non-trainable params: 0\n",
            "_________________________________________________________________\n"
          ],
          "name": "stdout"
        }
      ]
    },
    {
      "cell_type": "code",
      "metadata": {
        "id": "xs6MuDLw7mOD"
      },
      "source": [
        "from tensorflow.keras import optimizers \n",
        "model.compile(loss='binary_crossentropy',\n",
        "              metrics=['acc'],\n",
        "              optimizer=optimizers.RMSprop(lr=1e-4))"
      ],
      "execution_count": null,
      "outputs": []
    },
    {
      "cell_type": "code",
      "metadata": {
        "colab": {
          "base_uri": "https://localhost:8080/"
        },
        "id": "gARz6XAA8Zc5",
        "outputId": "36d9315e-a6de-4768-89fb-51876e746525"
      },
      "source": [
        "from tensorflow.keras.preprocessing.image import ImageDataGenerator\n",
        "\n",
        "train_datagen=ImageDataGenerator(rescale=1./255,\n",
        "                                 rotation_range=40,\n",
        "                                 width_shift_range=.2,\n",
        "                                 shear_range=0.2,\n",
        "                                 zoom_range=.2,\n",
        "                                 horizontal_flip=True,\n",
        "                                 fill_mode='nearest')\n",
        "val_datagen=ImageDataGenerator(rescale=1./255,\n",
        "                               rotation_range=40,\n",
        "                                 width_shift_range=.2,\n",
        "                                 shear_range=0.2,\n",
        "                                 zoom_range=.2,\n",
        "                                 horizontal_flip=True,\n",
        "                                 fill_mode='nearest')\n",
        "\n",
        "train_generator = train_datagen.flow_from_directory(\n",
        "    train_dir, target_size=(150,150), class_mode = 'binary',\n",
        "    batch_size=20\n",
        ")\n",
        "\n",
        "val_generator = val_datagen.flow_from_directory(\n",
        "    train_dir, target_size=(150,150), class_mode = 'binary',\n",
        "    batch_size=20\n",
        ")"
      ],
      "execution_count": 16,
      "outputs": [
        {
          "output_type": "stream",
          "text": [
            "Found 2000 images belonging to 2 classes.\n",
            "Found 2000 images belonging to 2 classes.\n"
          ],
          "name": "stdout"
        }
      ]
    },
    {
      "cell_type": "code",
      "metadata": {
        "colab": {
          "base_uri": "https://localhost:8080/"
        },
        "id": "xxLfspar9_H9",
        "outputId": "4d641e7a-d0ea-431c-ee58-5e302cad9ff8"
      },
      "source": [
        "for data_batch, labels_batch in train_generator:\n",
        "  print('data batch shape:', data_batch.shape)\n",
        "  print('labels batch shape:', labels_batch.shape)\n",
        "  break"
      ],
      "execution_count": 17,
      "outputs": [
        {
          "output_type": "stream",
          "text": [
            "data batch shape: (20, 150, 150, 3)\n",
            "labels batch shape: (20,)\n"
          ],
          "name": "stdout"
        }
      ]
    },
    {
      "cell_type": "code",
      "metadata": {
        "id": "uUjVmRZB-5RW"
      },
      "source": [
        "history = model.fit_generator(train_generator,\n",
        "                              steps_per_epoch=100,\n",
        "                              epochs=30,\n",
        "                              validation_data=val_generator,\n",
        "                              validation_steps=30)"
      ],
      "execution_count": null,
      "outputs": []
    },
    {
      "cell_type": "code",
      "metadata": {
        "colab": {
          "base_uri": "https://localhost:8080/",
          "height": 545
        },
        "id": "HahVRAVE_VRp",
        "outputId": "fc57598c-3322-40f4-fedc-a0893f965e67"
      },
      "source": [
        "import matplotlib.pyplot as plt\n",
        "\n",
        "acc=history.history['acc']\n",
        "val_acc = history.history['val_acc']\n",
        "loss = history.history['loss']\n",
        "val_loss = history.history['val_loss']\n",
        "\n",
        "epochs = range(len(acc))\n",
        "\n",
        "plt.plot(epochs, acc, 'bo', label='Training acc')\n",
        "plt.plot(epochs, val_acc, 'b', label='Validation acc')\n",
        "plt.title('Training and validation accuracy')\n",
        "plt.legend()\n",
        "plt.figure()\n",
        "plt.plot(epochs, loss, 'bo', label='Training loss')\n",
        "plt.plot(epochs, val_loss, 'b', label='Validation loss')\n",
        "plt.title('Training and validation loss')\n",
        "plt.legend()\n",
        "plt.show()"
      ],
      "execution_count": null,
      "outputs": [
        {
          "output_type": "display_data",
          "data": {
            "image/png": "[encoded data removed]",
            "text/plain": [
              "<Figure size 432x288 with 1 Axes>"
            ]
          },
          "metadata": {
            "tags": [],
            "needs_background": "light"
          }
        },
        {
          "output_type": "display_data",
          "data": {
            "image/png": "[encoded data removed]",
            "text/plain": [
              "<Figure size 432x288 with 1 Axes>"
            ]
          },
          "metadata": {
            "tags": [],
            "needs_background": "light"
          }
        }
      ]
    },
    {
      "cell_type": "markdown",
      "metadata": {
        "id": "fcpqwLCGxBfL"
      },
      "source": [
        "###ConvNet with Pretrained Model"
      ]
    },
    {
      "cell_type": "code",
      "metadata": {
        "id": "vcw7GvIdQ0z8",
        "outputId": "3e932237-c297-42c4-d112-5e6a4f2587f0",
        "colab": {
          "base_uri": "https://localhost:8080/"
        }
      },
      "source": [
        "from tensorflow.keras.applications import VGG16\n",
        "\n",
        "conv_base = VGG16(include_top=False,\n",
        "                  input_shape=(150,150,3))\n",
        "conv_base.trainable = False"
      ],
      "execution_count": 4,
      "outputs": [
        {
          "output_type": "stream",
          "text": [
            "Downloading data from https://storage.googleapis.com/tensorflow/keras-applications/vgg16/vgg16_weights_tf_dim_ordering_tf_kernels_notop.h5\n",
            "58892288/58889256 [==============================] - 0s 0us/step\n"
          ],
          "name": "stdout"
        }
      ]
    },
    {
      "cell_type": "code",
      "metadata": {
        "id": "WD44kHT_vWBl"
      },
      "source": [
        "import tensorflow as tf\n",
        "\n",
        "model = tf.keras.Sequential([\n",
        "        conv_base,\n",
        "        tf.keras.layers.Flatten(),\n",
        "        tf.keras.layers.Dense(512,activation='relu'),\n",
        "        tf.keras.layers.Dense(1,activation='sigmoid')\n",
        "])"
      ],
      "execution_count": 23,
      "outputs": []
    },
    {
      "cell_type": "code",
      "metadata": {
        "id": "nrljfqxFwRpk",
        "outputId": "7b705023-10e1-4fe0-8f18-c8ccfefce852",
        "colab": {
          "base_uri": "https://localhost:8080/"
        }
      },
      "source": [
        "model.summary()"
      ],
      "execution_count": 24,
      "outputs": [
        {
          "output_type": "stream",
          "text": [
            "Model: \"sequential_1\"\n",
            "_________________________________________________________________\n",
            "Layer (type)                 Output Shape              Param #   \n",
            "=================================================================\n",
            "vgg16 (Functional)           (None, 4, 4, 512)         14714688  \n",
            "_________________________________________________________________\n",
            "flatten_1 (Flatten)          (None, 8192)              0         \n",
            "_________________________________________________________________\n",
            "dense_2 (Dense)              (None, 512)               4194816   \n",
            "_________________________________________________________________\n",
            "dense_3 (Dense)              (None, 1)                 513       \n",
            "=================================================================\n",
            "Total params: 18,910,017\n",
            "Trainable params: 4,195,329\n",
            "Non-trainable params: 14,714,688\n",
            "_________________________________________________________________\n"
          ],
          "name": "stdout"
        }
      ]
    },
    {
      "cell_type": "code",
      "metadata": {
        "id": "E8Qakj2PwTtK"
      },
      "source": [
        "from tensorflow.keras.optimizers import RMSprop\n",
        "model.compile(optimizer=RMSprop(lr=2e-5),\n",
        "              loss='binary_crossentropy',\n",
        "              metrics=['acc'])"
      ],
      "execution_count": 25,
      "outputs": []
    },
    {
      "cell_type": "code",
      "metadata": {
        "id": "AF0QvrGzw_eS",
        "outputId": "fae483ce-b6d9-4f20-94b0-7cf17ba4ae4f",
        "colab": {
          "base_uri": "https://localhost:8080/"
        }
      },
      "source": [
        "history = model.fit_generator(train_generator,\n",
        "                              steps_per_epoch=100,\n",
        "                              epochs=30,\n",
        "                              validation_data=val_generator,\n",
        "                              validation_steps=10)"
      ],
      "execution_count": 28,
      "outputs": [
        {
          "output_type": "stream",
          "text": [
            "/usr/local/lib/python3.7/dist-packages/tensorflow/python/keras/engine/training.py:1844: UserWarning: `Model.fit_generator` is deprecated and will be removed in a future version. Please use `Model.fit`, which supports generators.\n",
            "  warnings.warn('`Model.fit_generator` is deprecated and '\n"
          ],
          "name": "stderr"
        },
        {
          "output_type": "stream",
          "text": [
            "Epoch 1/30\n",
            "10/10 [==============================] - 78s 8s/step - loss: 0.5792 - acc: 0.7200 - val_loss: 0.5729 - val_acc: 0.7200\n",
            "Epoch 2/30\n",
            "10/10 [==============================] - 78s 8s/step - loss: 0.5661 - acc: 0.7450 - val_loss: 0.5678 - val_acc: 0.7350\n",
            "Epoch 3/30\n",
            "10/10 [==============================] - 78s 8s/step - loss: 0.5452 - acc: 0.7550 - val_loss: 0.5290 - val_acc: 0.7800\n",
            "Epoch 4/30\n",
            "10/10 [==============================] - 78s 8s/step - loss: 0.4979 - acc: 0.7900 - val_loss: 0.5203 - val_acc: 0.7750\n",
            "Epoch 5/30\n",
            "10/10 [==============================] - 78s 8s/step - loss: 0.5363 - acc: 0.7500 - val_loss: 0.4836 - val_acc: 0.7950\n",
            "Epoch 6/30\n",
            "10/10 [==============================] - 78s 8s/step - loss: 0.4913 - acc: 0.8000 - val_loss: 0.5022 - val_acc: 0.7850\n",
            "Epoch 7/30\n",
            "10/10 [==============================] - 78s 8s/step - loss: 0.4749 - acc: 0.7750 - val_loss: 0.4784 - val_acc: 0.8200\n",
            "Epoch 8/30\n",
            "10/10 [==============================] - 78s 8s/step - loss: 0.4392 - acc: 0.7900 - val_loss: 0.4697 - val_acc: 0.8100\n",
            "Epoch 9/30\n",
            "10/10 [==============================] - 78s 8s/step - loss: 0.4775 - acc: 0.7800 - val_loss: 0.4822 - val_acc: 0.7550\n",
            "Epoch 10/30\n",
            "10/10 [==============================] - 78s 8s/step - loss: 0.4495 - acc: 0.7900 - val_loss: 0.4770 - val_acc: 0.7700\n",
            "Epoch 11/30\n",
            "10/10 [==============================] - 78s 8s/step - loss: 0.4503 - acc: 0.8100 - val_loss: 0.4896 - val_acc: 0.7500\n",
            "Epoch 12/30\n",
            "10/10 [==============================] - 78s 8s/step - loss: 0.4308 - acc: 0.8350 - val_loss: 0.4528 - val_acc: 0.8000\n",
            "Epoch 13/30\n",
            "10/10 [==============================] - 78s 8s/step - loss: 0.4287 - acc: 0.7850 - val_loss: 0.4181 - val_acc: 0.8000\n",
            "Epoch 14/30\n",
            "10/10 [==============================] - 78s 8s/step - loss: 0.3661 - acc: 0.8550 - val_loss: 0.4035 - val_acc: 0.8450\n",
            "Epoch 15/30\n",
            "10/10 [==============================] - 78s 8s/step - loss: 0.4216 - acc: 0.8300 - val_loss: 0.3624 - val_acc: 0.8700\n",
            "Epoch 16/30\n",
            "10/10 [==============================] - 78s 8s/step - loss: 0.3714 - acc: 0.8550 - val_loss: 0.3796 - val_acc: 0.8600\n",
            "Epoch 17/30\n",
            "10/10 [==============================] - 78s 8s/step - loss: 0.3959 - acc: 0.8300 - val_loss: 0.3872 - val_acc: 0.8500\n",
            "Epoch 18/30\n",
            "10/10 [==============================] - 78s 8s/step - loss: 0.4142 - acc: 0.8150 - val_loss: 0.4051 - val_acc: 0.8200\n",
            "Epoch 19/30\n",
            "10/10 [==============================] - 78s 8s/step - loss: 0.3853 - acc: 0.8200 - val_loss: 0.4470 - val_acc: 0.7750\n",
            "Epoch 20/30\n",
            "10/10 [==============================] - 78s 8s/step - loss: 0.4441 - acc: 0.7950 - val_loss: 0.3870 - val_acc: 0.8400\n",
            "Epoch 21/30\n",
            "10/10 [==============================] - 78s 8s/step - loss: 0.4067 - acc: 0.8250 - val_loss: 0.3825 - val_acc: 0.8300\n",
            "Epoch 22/30\n",
            "10/10 [==============================] - 78s 8s/step - loss: 0.4143 - acc: 0.8150 - val_loss: 0.4021 - val_acc: 0.8550\n",
            "Epoch 23/30\n",
            "10/10 [==============================] - 78s 8s/step - loss: 0.3252 - acc: 0.8600 - val_loss: 0.3951 - val_acc: 0.8300\n",
            "Epoch 24/30\n",
            "10/10 [==============================] - 78s 8s/step - loss: 0.4042 - acc: 0.8300 - val_loss: 0.3402 - val_acc: 0.8650\n",
            "Epoch 25/30\n",
            "10/10 [==============================] - 78s 8s/step - loss: 0.3879 - acc: 0.8150 - val_loss: 0.3871 - val_acc: 0.8450\n",
            "Epoch 26/30\n",
            "10/10 [==============================] - 78s 8s/step - loss: 0.3255 - acc: 0.8600 - val_loss: 0.3542 - val_acc: 0.8500\n",
            "Epoch 27/30\n",
            "10/10 [==============================] - 78s 8s/step - loss: 0.3639 - acc: 0.8250 - val_loss: 0.3534 - val_acc: 0.8450\n",
            "Epoch 28/30\n",
            "10/10 [==============================] - 78s 8s/step - loss: 0.3582 - acc: 0.8550 - val_loss: 0.3159 - val_acc: 0.8750\n",
            "Epoch 29/30\n",
            "10/10 [==============================] - 78s 8s/step - loss: 0.3756 - acc: 0.8400 - val_loss: 0.3785 - val_acc: 0.8550\n",
            "Epoch 30/30\n",
            "10/10 [==============================] - 78s 8s/step - loss: 0.3462 - acc: 0.8750 - val_loss: 0.3211 - val_acc: 0.8600\n"
          ],
          "name": "stdout"
        }
      ]
    },
    {
      "cell_type": "code",
      "metadata": {
        "id": "4tH8-9YMOfTn",
        "outputId": "caa0b5d4-e9d4-4f19-d07e-f809a0b47286",
        "colab": {
          "base_uri": "https://localhost:8080/"
        }
      },
      "source": [
        "from tensorflow.keras.applications import VGG16\n",
        "\n",
        "model = VGG16()"
      ],
      "execution_count": 4,
      "outputs": [
        {
          "output_type": "stream",
          "text": [
            "Downloading data from https://storage.googleapis.com/tensorflow/keras-applications/vgg16/vgg16_weights_tf_dim_ordering_tf_kernels.h5\n",
            "553467904/553467096 [==============================] - 5s 0us/step\n"
          ],
          "name": "stdout"
        }
      ]
    },
    {
      "cell_type": "code",
      "metadata": {
        "id": "5v2W8v7DSel7"
      },
      "source": [
        "import requests\n",
        "response = requests.get\\\n",
        "('https://seattleglobalist.com/wp-content/uploads/2016/07/female-elephant-341983_1280.jpg')\n",
        "\n",
        "file = open(\"sample_image.png\", \"wb\")\n",
        "file.write(response.content)\n",
        "file.close()"
      ],
      "execution_count": 6,
      "outputs": []
    },
    {
      "cell_type": "code",
      "metadata": {
        "id": "-Nn8VXx1ULYM"
      },
      "source": [
        "import numpy as np\n",
        "from tensorflow.keras.preprocessing import image\n",
        "from tensorflow.keras.applications import vgg16 as vg\n",
        "\n",
        "img_path = '/content/sample_image.png'\n",
        "\n",
        "img = image.load_img(img_path,target_size=(224,224))\n",
        "\n",
        "x = image.img_to_array(img)\n",
        "\n",
        "x = np.expand_dims(x,axis=0)\n",
        "\n",
        "x = vg.preprocess_input(x)"
      ],
      "execution_count": 9,
      "outputs": []
    },
    {
      "cell_type": "code",
      "metadata": {
        "id": "oAu179PcUpav",
        "outputId": "beed1ff3-6650-4898-911b-5361878cdcfa",
        "colab": {
          "base_uri": "https://localhost:8080/"
        }
      },
      "source": [
        "preds = model.predict(x)\n",
        "print(vg.decode_predictions(preds,3))"
      ],
      "execution_count": 12,
      "outputs": [
        {
          "output_type": "stream",
          "text": [
            "Downloading data from https://storage.googleapis.com/download.tensorflow.org/data/imagenet_class_index.json\n",
            "40960/35363 [==================================] - 0s 0us/step\n",
            "[[('n02504458', 'African_elephant', 0.90942115), ('n01871265', 'tusker', 0.08618273), ('n02504013', 'Indian_elephant', 0.0043545915)]]\n"
          ],
          "name": "stdout"
        }
      ]
    },
    {
      "cell_type": "code",
      "metadata": {
        "id": "Ym3JtMSDZve9",
        "outputId": "678fbf9c-d05e-489f-a0ad-4f1c55595cf3",
        "colab": {
          "base_uri": "https://localhost:8080/"
        }
      },
      "source": [
        "np.argmax(preds[0])"
      ],
      "execution_count": 13,
      "outputs": [
        {
          "output_type": "execute_result",
          "data": {
            "text/plain": [
              "386"
            ]
          },
          "metadata": {
            "tags": []
          },
          "execution_count": 13
        }
      ]
    },
    {
      "cell_type": "code",
      "metadata": {
        "id": "6aJJ7X7naeqX"
      },
      "source": [
        "import tensorflow.keras.backend as K\n",
        "\n",
        "african_elephant_output = model.output[:,386]\n",
        "last_layer = model.get_layer('block5_conv3').output[:,:,:,:]"
      ],
      "execution_count": 31,
      "outputs": []
    },
    {
      "cell_type": "code",
      "metadata": {
        "id": "IyAlXEZda4ib",
        "outputId": "c7d6b443-e07f-4a32-fc59-fd6cd41ea3b3",
        "colab": {
          "base_uri": "https://localhost:8080/",
          "height": 323
        }
      },
      "source": [
        "#grads = K.gradients(african_elephant_output,last_layer.output)[0]\n",
        "\n",
        "with tf.GradientTape() as gtype:\n",
        "  grads = gtype.gradient(last_layer,african_elephant_output)"
      ],
      "execution_count": 37,
      "outputs": [
        {
          "output_type": "error",
          "ename": "AttributeError",
          "evalue": "ignored",
          "traceback": [
            "\u001b[0;31m---------------------------------------------------------------------------\u001b[0m",
            "\u001b[0;31mAttributeError\u001b[0m                            Traceback (most recent call last)",
            "\u001b[0;32m<ipython-input-37-fbdc4e251095>\u001b[0m in \u001b[0;36m<module>\u001b[0;34m()\u001b[0m\n\u001b[1;32m      2\u001b[0m \u001b[0;34m\u001b[0m\u001b[0m\n\u001b[1;32m      3\u001b[0m \u001b[0;32mwith\u001b[0m \u001b[0mtf\u001b[0m\u001b[0;34m.\u001b[0m\u001b[0mGradientTape\u001b[0m\u001b[0;34m(\u001b[0m\u001b[0;34m)\u001b[0m \u001b[0;32mas\u001b[0m \u001b[0mgtype\u001b[0m\u001b[0;34m:\u001b[0m\u001b[0;34m\u001b[0m\u001b[0;34m\u001b[0m\u001b[0m\n\u001b[0;32m----> 4\u001b[0;31m   \u001b[0mgrads\u001b[0m \u001b[0;34m=\u001b[0m \u001b[0mgtype\u001b[0m\u001b[0;34m.\u001b[0m\u001b[0mgradient\u001b[0m\u001b[0;34m(\u001b[0m\u001b[0mlast_layer\u001b[0m\u001b[0;34m,\u001b[0m\u001b[0mafrican_elephant_output\u001b[0m\u001b[0;34m)\u001b[0m\u001b[0;34m\u001b[0m\u001b[0;34m\u001b[0m\u001b[0m\n\u001b[0m",
            "\u001b[0;32m/usr/local/lib/python3.7/dist-packages/tensorflow/python/eager/backprop.py\u001b[0m in \u001b[0;36mgradient\u001b[0;34m(self, target, sources, output_gradients, unconnected_gradients)\u001b[0m\n\u001b[1;32m   1084\u001b[0m         \u001b[0moutput_gradients\u001b[0m\u001b[0;34m=\u001b[0m\u001b[0moutput_gradients\u001b[0m\u001b[0;34m,\u001b[0m\u001b[0;34m\u001b[0m\u001b[0;34m\u001b[0m\u001b[0m\n\u001b[1;32m   1085\u001b[0m         \u001b[0msources_raw\u001b[0m\u001b[0;34m=\u001b[0m\u001b[0mflat_sources_raw\u001b[0m\u001b[0;34m,\u001b[0m\u001b[0;34m\u001b[0m\u001b[0;34m\u001b[0m\u001b[0m\n\u001b[0;32m-> 1086\u001b[0;31m         unconnected_gradients=unconnected_gradients)\n\u001b[0m\u001b[1;32m   1087\u001b[0m \u001b[0;34m\u001b[0m\u001b[0m\n\u001b[1;32m   1088\u001b[0m     \u001b[0;32mif\u001b[0m \u001b[0;32mnot\u001b[0m \u001b[0mself\u001b[0m\u001b[0;34m.\u001b[0m\u001b[0m_persistent\u001b[0m\u001b[0;34m:\u001b[0m\u001b[0;34m\u001b[0m\u001b[0;34m\u001b[0m\u001b[0m\n",
            "\u001b[0;32m/usr/local/lib/python3.7/dist-packages/tensorflow/python/eager/imperative_grad.py\u001b[0m in \u001b[0;36mimperative_grad\u001b[0;34m(tape, target, sources, output_gradients, sources_raw, unconnected_gradients)\u001b[0m\n\u001b[1;32m     75\u001b[0m       \u001b[0moutput_gradients\u001b[0m\u001b[0;34m,\u001b[0m\u001b[0;34m\u001b[0m\u001b[0;34m\u001b[0m\u001b[0m\n\u001b[1;32m     76\u001b[0m       \u001b[0msources_raw\u001b[0m\u001b[0;34m,\u001b[0m\u001b[0;34m\u001b[0m\u001b[0;34m\u001b[0m\u001b[0m\n\u001b[0;32m---> 77\u001b[0;31m       compat.as_str(unconnected_gradients.value))\n\u001b[0m",
            "\u001b[0;31mAttributeError\u001b[0m: 'KerasTensor' object has no attribute '_id'"
          ]
        }
      ]
    },
    {
      "cell_type": "code",
      "metadata": {
        "id": "b9y0ijrSgWtk"
      },
      "source": [
        ""
      ],
      "execution_count": null,
      "outputs": []
    },
    {
      "cell_type": "code",
      "metadata": {
        "id": "2q8IRDBQbOEL",
        "outputId": "2548f659-d6a8-40ef-ee3e-497280d89b30",
        "colab": {
          "base_uri": "https://localhost:8080/"
        }
      },
      "source": [
        "last_layer"
      ],
      "execution_count": 34,
      "outputs": [
        {
          "output_type": "execute_result",
          "data": {
            "text/plain": [
              "<KerasTensor: shape=(None, 14, 14, 512) dtype=float32 (created by layer 'tf.__operators__.getitem_6')>"
            ]
          },
          "metadata": {
            "tags": []
          },
          "execution_count": 34
        }
      ]
    },
    {
      "cell_type": "code",
      "metadata": {
        "id": "eEjA-NYud74_"
      },
      "source": [
        ""
      ],
      "execution_count": null,
      "outputs": []
    }
  ]
}