{
  "nbformat": 4,
  "nbformat_minor": 0,
  "metadata": {
    "colab": {
      "name": "Classifying Movie Reviews: Binary Classification",
      "provenance": [],
      "collapsed_sections": [],
      "authorship_tag": "ABX9TyOffCU9HQQRROH/9OOOfqE+",
      "include_colab_link": true
    },
    "kernelspec": {
      "name": "python3",
      "display_name": "Python 3"
    },
    "language_info": {
      "name": "python"
    }
  },
  "cells": [
    {
      "cell_type": "markdown",
      "metadata": {
        "id": "view-in-github",
        "colab_type": "text"
      },
      "source": [
        "<a href=\"https://colab.research.google.com/github/renardelyon/Deep-Learning-with-Python-Exercise/blob/main/Classifying_Movie_Reviews_Binary_Classification.ipynb\" target=\"_parent\"><img src=\"https://colab.research.google.com/assets/colab-badge.svg\" alt=\"Open In Colab\"/></a>"
      ]
    },
    {
      "cell_type": "code",
      "metadata": {
        "colab": {
          "base_uri": "https://localhost:8080/"
        },
        "id": "xBQSsO1yHLPB",
        "outputId": "2b7fb202-f025-4b97-fc3f-c79c98f4a7ae"
      },
      "source": [
        "#load imdb datasets\n",
        "from tensorflow.keras.datasets import imdb\n",
        "\n",
        "(train_features,train_label),(test_features,test_label)=imdb.load_data(\n",
        "    num_words=10000)"
      ],
      "execution_count": 2,
      "outputs": [
        {
          "output_type": "stream",
          "text": [
            "Downloading data from https://storage.googleapis.com/tensorflow/tf-keras-datasets/imdb.npz\n",
            "17465344/17464789 [==============================] - 0s 0us/step\n"
          ],
          "name": "stdout"
        },
        {
          "output_type": "stream",
          "text": [
            "<string>:6: VisibleDeprecationWarning: Creating an ndarray from ragged nested sequences (which is a list-or-tuple of lists-or-tuples-or ndarrays with different lengths or shapes) is deprecated. If you meant to do this, you must specify 'dtype=object' when creating the ndarray\n",
            "/usr/local/lib/python3.7/dist-packages/tensorflow/python/keras/datasets/imdb.py:159: VisibleDeprecationWarning: Creating an ndarray from ragged nested sequences (which is a list-or-tuple of lists-or-tuples-or ndarrays with different lengths or shapes) is deprecated. If you meant to do this, you must specify 'dtype=object' when creating the ndarray\n",
            "  x_train, y_train = np.array(xs[:idx]), np.array(labels[:idx])\n",
            "/usr/local/lib/python3.7/dist-packages/tensorflow/python/keras/datasets/imdb.py:160: VisibleDeprecationWarning: Creating an ndarray from ragged nested sequences (which is a list-or-tuple of lists-or-tuples-or ndarrays with different lengths or shapes) is deprecated. If you meant to do this, you must specify 'dtype=object' when creating the ndarray\n",
            "  x_test, y_test = np.array(xs[idx:]), np.array(labels[idx:])\n"
          ],
          "name": "stderr"
        }
      ]
    },
    {
      "cell_type": "code",
      "metadata": {
        "colab": {
          "base_uri": "https://localhost:8080/"
        },
        "id": "lhOx2TE7Hbks",
        "outputId": "8f9a8c83-9a2f-4033-c529-6e3e7025a782"
      },
      "source": [
        "max([max(sequence) for sequence in train_features])"
      ],
      "execution_count": 3,
      "outputs": [
        {
          "output_type": "execute_result",
          "data": {
            "text/plain": [
              "9999"
            ]
          },
          "metadata": {
            "tags": []
          },
          "execution_count": 3
        }
      ]
    },
    {
      "cell_type": "code",
      "metadata": {
        "colab": {
          "base_uri": "https://localhost:8080/"
        },
        "id": "rDChbLPnILDA",
        "outputId": "2b725452-5461-4a86-ea70-0ac1b22bca4a"
      },
      "source": [
        "word_index = imdb.get_word_index()\n",
        "reverse_word_index = dict(\n",
        "    [(value,key) for (key,value) in word_index.items()]\n",
        ")\n",
        "word_encode = ' '.join(\n",
        "    [reverse_word_index.get(i-3,'?') for i in train_features[0]]\n",
        ")\n",
        "print(word_encode)"
      ],
      "execution_count": 4,
      "outputs": [
        {
          "output_type": "stream",
          "text": [
            "Downloading data from https://storage.googleapis.com/tensorflow/tf-keras-datasets/imdb_word_index.json\n",
            "1646592/1641221 [==============================] - 0s 0us/step\n",
            "? this film was just brilliant casting location scenery story direction everyone's really suited the part they played and you could just imagine being there robert ? is an amazing actor and now the same being director ? father came from the same scottish island as myself so i loved the fact there was a real connection with this film the witty remarks throughout the film were great it was just brilliant so much that i bought the film as soon as it was released for ? and would recommend it to everyone to watch and the fly fishing was amazing really cried at the end it was so sad and you know what they say if you cry at a film it must have been good and this definitely was also ? to the two little boy's that played the ? of norman and paul they were just brilliant children are often left out of the ? list i think because the stars that play them all grown up are such a big profile for the whole film but these children are amazing and should be praised for what they have done don't you think the whole story was so lovely because it was true and was someone's life after all that was shared with us all\n"
          ],
          "name": "stdout"
        }
      ]
    },
    {
      "cell_type": "code",
      "metadata": {
        "id": "asYplO1zNhp7"
      },
      "source": [
        "import numpy as np\n",
        "\n",
        "def vectorize_sequences(sequences, dimension=10000):\n",
        "  result = np.zeros((len(sequences),dimension))\n",
        "  for i, sequence in enumerate(sequences):\n",
        "    result[i,sequence]=1\n",
        "  return result\n",
        "\n",
        "X_train = vectorize_sequences(train_features)\n",
        "X_test = vectorize_sequences(test_features)"
      ],
      "execution_count": 5,
      "outputs": []
    },
    {
      "cell_type": "code",
      "metadata": {
        "colab": {
          "base_uri": "https://localhost:8080/"
        },
        "id": "mghvVDDFNjFU",
        "outputId": "8a12be13-cd58-4771-c22e-4a029fe0a0cb"
      },
      "source": [
        "X_train.shape"
      ],
      "execution_count": 6,
      "outputs": [
        {
          "output_type": "execute_result",
          "data": {
            "text/plain": [
              "(25000, 10000)"
            ]
          },
          "metadata": {
            "tags": []
          },
          "execution_count": 6
        }
      ]
    },
    {
      "cell_type": "code",
      "metadata": {
        "id": "plrvvi2KTXpQ"
      },
      "source": [
        "import tensorflow as tf\n",
        "\n",
        "model = tf.keras.Sequential([\n",
        "      tf.keras.layers.Dense(16,activation ='tanh',input_shape=(10000,)),\n",
        "      tf.keras.layers.Dense(1,activation='sigmoid')])"
      ],
      "execution_count": 27,
      "outputs": []
    },
    {
      "cell_type": "code",
      "metadata": {
        "id": "4ZsUiSXWVzp_"
      },
      "source": [
        "model.compile(optimizer='adam',\n",
        "              loss='mse',\n",
        "              metrics=['binary_accuracy'])"
      ],
      "execution_count": 28,
      "outputs": []
    },
    {
      "cell_type": "code",
      "metadata": {
        "colab": {
          "base_uri": "https://localhost:8080/"
        },
        "id": "jHReK78YWP6O",
        "outputId": "7f740e5c-c46b-4f29-d8f4-5fa6a8042c5f"
      },
      "source": [
        "history = model.fit(X_train,\n",
        "                    train_label,\n",
        "                    epochs=20,\n",
        "                    validation_split=0.2,\n",
        "                    shuffle=True,\n",
        "                    batch_size=512).history"
      ],
      "execution_count": 29,
      "outputs": [
        {
          "output_type": "stream",
          "text": [
            "Epoch 1/20\n",
            "40/40 [==============================] - 2s 32ms/step - loss: 0.1888 - binary_accuracy: 0.7371 - val_loss: 0.1079 - val_binary_accuracy: 0.8768\n",
            "Epoch 2/20\n",
            "40/40 [==============================] - 1s 26ms/step - loss: 0.0865 - binary_accuracy: 0.9082 - val_loss: 0.0905 - val_binary_accuracy: 0.8876\n",
            "Epoch 3/20\n",
            "40/40 [==============================] - 1s 28ms/step - loss: 0.0633 - binary_accuracy: 0.9379 - val_loss: 0.0849 - val_binary_accuracy: 0.8918\n",
            "Epoch 4/20\n",
            "40/40 [==============================] - 1s 28ms/step - loss: 0.0520 - binary_accuracy: 0.9505 - val_loss: 0.0829 - val_binary_accuracy: 0.8902\n",
            "Epoch 5/20\n",
            "40/40 [==============================] - 1s 28ms/step - loss: 0.0435 - binary_accuracy: 0.9586 - val_loss: 0.0821 - val_binary_accuracy: 0.8896\n",
            "Epoch 6/20\n",
            "40/40 [==============================] - 1s 28ms/step - loss: 0.0375 - binary_accuracy: 0.9669 - val_loss: 0.0827 - val_binary_accuracy: 0.8880\n",
            "Epoch 7/20\n",
            "40/40 [==============================] - 1s 28ms/step - loss: 0.0310 - binary_accuracy: 0.9742 - val_loss: 0.0831 - val_binary_accuracy: 0.8860\n",
            "Epoch 8/20\n",
            "40/40 [==============================] - 1s 28ms/step - loss: 0.0281 - binary_accuracy: 0.9778 - val_loss: 0.0836 - val_binary_accuracy: 0.8876\n",
            "Epoch 9/20\n",
            "40/40 [==============================] - 1s 28ms/step - loss: 0.0244 - binary_accuracy: 0.9826 - val_loss: 0.0847 - val_binary_accuracy: 0.8830\n",
            "Epoch 10/20\n",
            "40/40 [==============================] - 1s 28ms/step - loss: 0.0214 - binary_accuracy: 0.9847 - val_loss: 0.0860 - val_binary_accuracy: 0.8822\n",
            "Epoch 11/20\n",
            "40/40 [==============================] - 1s 28ms/step - loss: 0.0200 - binary_accuracy: 0.9849 - val_loss: 0.0878 - val_binary_accuracy: 0.8808\n",
            "Epoch 12/20\n",
            "40/40 [==============================] - 1s 29ms/step - loss: 0.0164 - binary_accuracy: 0.9895 - val_loss: 0.0895 - val_binary_accuracy: 0.8776\n",
            "Epoch 13/20\n",
            "40/40 [==============================] - 1s 28ms/step - loss: 0.0153 - binary_accuracy: 0.9907 - val_loss: 0.0911 - val_binary_accuracy: 0.8760\n",
            "Epoch 14/20\n",
            "40/40 [==============================] - 1s 28ms/step - loss: 0.0148 - binary_accuracy: 0.9905 - val_loss: 0.0926 - val_binary_accuracy: 0.8760\n",
            "Epoch 15/20\n",
            "40/40 [==============================] - 1s 28ms/step - loss: 0.0127 - binary_accuracy: 0.9923 - val_loss: 0.0938 - val_binary_accuracy: 0.8754\n",
            "Epoch 16/20\n",
            "40/40 [==============================] - 1s 28ms/step - loss: 0.0113 - binary_accuracy: 0.9934 - val_loss: 0.0953 - val_binary_accuracy: 0.8744\n",
            "Epoch 17/20\n",
            "40/40 [==============================] - 1s 28ms/step - loss: 0.0103 - binary_accuracy: 0.9943 - val_loss: 0.0969 - val_binary_accuracy: 0.8736\n",
            "Epoch 18/20\n",
            "40/40 [==============================] - 1s 27ms/step - loss: 0.0105 - binary_accuracy: 0.9933 - val_loss: 0.0976 - val_binary_accuracy: 0.8734\n",
            "Epoch 19/20\n",
            "40/40 [==============================] - 1s 28ms/step - loss: 0.0086 - binary_accuracy: 0.9952 - val_loss: 0.0990 - val_binary_accuracy: 0.8720\n",
            "Epoch 20/20\n",
            "40/40 [==============================] - 1s 28ms/step - loss: 0.0085 - binary_accuracy: 0.9949 - val_loss: 0.0999 - val_binary_accuracy: 0.8700\n"
          ],
          "name": "stdout"
        }
      ]
    },
    {
      "cell_type": "code",
      "metadata": {
        "colab": {
          "base_uri": "https://localhost:8080/"
        },
        "id": "iwXveaTVbwfd",
        "outputId": "4cb0a268-b75f-422e-8ac2-994615aceb3d"
      },
      "source": [
        "result = model.evaluate(X_test,test_label)\n",
        "result"
      ],
      "execution_count": 30,
      "outputs": [
        {
          "output_type": "stream",
          "text": [
            "782/782 [==============================] - 1s 2ms/step - loss: 0.1110 - binary_accuracy: 0.8590\n"
          ],
          "name": "stdout"
        },
        {
          "output_type": "execute_result",
          "data": {
            "text/plain": [
              "[0.11102641373872757, 0.8590400218963623]"
            ]
          },
          "metadata": {
            "tags": []
          },
          "execution_count": 30
        }
      ]
    },
    {
      "cell_type": "code",
      "metadata": {
        "colab": {
          "base_uri": "https://localhost:8080/",
          "height": 609
        },
        "id": "T86wszILW_RW",
        "outputId": "ec5cef2f-0b6c-4f27-f3cd-f44aaf2a837c"
      },
      "source": [
        "import matplotlib.pyplot as plt\n",
        "\n",
        "loss = history['loss']\n",
        "val_loss = history['val_loss']\n",
        "accuracy = history['binary_accuracy']\n",
        "val_accuracy = history['val_binary_accuracy']\n",
        "\n",
        "fig, ax = plt.subplots(2,1,sharex=True,figsize=(10,10))\n",
        "\n",
        "epoch = range(len(loss))\n",
        "ax[0].plot(epoch,loss,'b-',label='loss')\n",
        "ax[0].plot(epoch,val_loss,'bo',label='val_loss')\n",
        "ax[1].plot(epoch,accuracy,'b-',label='accuracy')\n",
        "ax[1].plot(epoch,val_accuracy,'bo',label='val_accuracy')\n",
        "for axs in ax.flat:\n",
        "    axs.set(xlabel='epoch', ylabel='value')\n",
        "ax[0].legend(loc=1)\n",
        "ax[1].legend(loc=1)\n",
        "plt.show()"
      ],
      "execution_count": 31,
      "outputs": [
        {
          "output_type": "display_data",
          "data": {
            "image/png": "[encoded data removed]",
            "text/plain": [
              "<Figure size 720x720 with 2 Axes>"
            ]
          },
          "metadata": {
            "tags": [],
            "needs_background": "light"
          }
        }
      ]
    },
    {
      "cell_type": "code",
      "metadata": {
        "id": "onQxoLYEYAEV"
      },
      "source": [
        "predictions = model.predict(X_test)"
      ],
      "execution_count": 32,
      "outputs": []
    },
    {
      "cell_type": "code",
      "metadata": {
        "colab": {
          "base_uri": "https://localhost:8080/"
        },
        "id": "aejyM45kVrtJ",
        "outputId": "a5dcdf7d-92f3-42d6-c474-33779ef56bba"
      },
      "source": [
        "len(predictions)"
      ],
      "execution_count": 34,
      "outputs": [
        {
          "output_type": "execute_result",
          "data": {
            "text/plain": [
              "25000"
            ]
          },
          "metadata": {
            "tags": []
          },
          "execution_count": 34
        }
      ]
    },
    {
      "cell_type": "code",
      "metadata": {
        "id": "cSCAyQAFVtcC"
      },
      "source": [
        ""
      ],
      "execution_count": null,
      "outputs": []
    }
  ]
}