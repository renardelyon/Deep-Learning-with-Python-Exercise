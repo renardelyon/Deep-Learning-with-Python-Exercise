{
  "nbformat": 4,
  "nbformat_minor": 0,
  "metadata": {
    "colab": {
      "name": "Classifying Movie Review RNN.ipynb",
      "provenance": [],
      "authorship_tag": "ABX9TyOzhR7BeUj7juasL06MqoeY",
      "include_colab_link": true
    },
    "kernelspec": {
      "name": "python3",
      "display_name": "Python 3"
    },
    "language_info": {
      "name": "python"
    }
  },
  "cells": [
    {
      "cell_type": "markdown",
      "metadata": {
        "id": "view-in-github",
        "colab_type": "text"
      },
      "source": [
        "<a href=\"https://colab.research.google.com/github/renardelyon/Deep-Learning-with-Python-Exercise/blob/main/Classifying_Movie_Review_RNN.ipynb\" target=\"_parent\"><img src=\"https://colab.research.google.com/assets/colab-badge.svg\" alt=\"Open In Colab\"/></a>"
      ]
    },
    {
      "cell_type": "markdown",
      "metadata": {
        "id": "h_8MY24yEuqN"
      },
      "source": [
        "### Raw Text IMDB Review "
      ]
    },
    {
      "cell_type": "code",
      "metadata": {
        "id": "MS0I54v_w0Jm"
      },
      "source": [
        "import zipfile\n",
        "import os\n",
        "import re\n",
        "\n",
        "curr_dir_name = os.getcwd()\n",
        "file_name = re.search(r' (.*zip)',' '.join(os.listdir())).group(1) \n",
        "\n",
        "with zipfile.ZipFile(os.path.join(curr_dir_name,file_name),'r') as zip:\n",
        "  zip.extractall('/content')"
      ],
      "execution_count": 2,
      "outputs": []
    },
    {
      "cell_type": "code",
      "metadata": {
        "id": "qJNRCFtR465O"
      },
      "source": [
        "file_name = file_name.split('.')\n",
        "imdb_dir = os.path.join(curr_dir_name, file_name[0])"
      ],
      "execution_count": 3,
      "outputs": []
    },
    {
      "cell_type": "code",
      "metadata": {
        "id": "LHOHMhx80l1h"
      },
      "source": [
        "train_dir = os.path.join(imdb_dir,'train')\n",
        "\n",
        "labels = []\n",
        "texts = []\n",
        "\n",
        "for label_type in ['neg','pos']:\n",
        "  dir_name = os.path.join(train_dir, label_type)\n",
        "  for fname in os.listdir(dir_name):\n",
        "    if fname[-4:] == '.txt':\n",
        "      f = open(os.path.join(dir_name,fname))\n",
        "      texts.append(f.read())\n",
        "      f.close()\n",
        "      if label_type == 'neg':\n",
        "        labels.append(0)\n",
        "      else:\n",
        "        labels.append(1)"
      ],
      "execution_count": 4,
      "outputs": []
    },
    {
      "cell_type": "code",
      "metadata": {
        "id": "X4Bt2abm_j2u"
      },
      "source": [
        "from tensorflow.keras.preprocessing.text import Tokenizer\n",
        "from tensorflow.keras.preprocessing.sequence import pad_sequences\n",
        "\n",
        "maxlen = 100\n",
        "max_words = 10000\n",
        "\n",
        "tokenizer = Tokenizer(num_words=max_words)\n",
        "tokenizer.fit_on_texts(texts)\n",
        "sequence = tokenizer.texts_to_sequences(texts)"
      ],
      "execution_count": 13,
      "outputs": []
    },
    {
      "cell_type": "code",
      "metadata": {
        "colab": {
          "base_uri": "https://localhost:8080/"
        },
        "id": "jK_i7SrMA1Cs",
        "outputId": "2d44dc06-84ce-40d5-fa74-e357b40718ac"
      },
      "source": [
        "word_index = tokenizer.word_index\n",
        "print('Found %s unique tokens.' % len(word_index))"
      ],
      "execution_count": 17,
      "outputs": [
        {
          "output_type": "stream",
          "text": [
            "Found 88582 unique tokens.\n"
          ],
          "name": "stdout"
        }
      ]
    },
    {
      "cell_type": "code",
      "metadata": {
        "colab": {
          "base_uri": "https://localhost:8080/"
        },
        "id": "YVoKDzzZBf9e",
        "outputId": "9bd1c0be-9735-4e37-c9f5-b79d907ba5bf"
      },
      "source": [
        "import numpy as np\n",
        "\n",
        "data = pad_sequences(sequence,maxlen=maxlen)\n",
        "\n",
        "labels = np.asarray(labels)\n",
        "print('Shape of data tensor:', data.shape)\n",
        "print('Shape of label tensor:', labels.shape)"
      ],
      "execution_count": 25,
      "outputs": [
        {
          "output_type": "stream",
          "text": [
            "Shape of data tensor: (25000, 100)\n",
            "Shape of label tensor: (25000,)\n"
          ],
          "name": "stdout"
        }
      ]
    },
    {
      "cell_type": "code",
      "metadata": {
        "id": "bErlf5Q5CI6P"
      },
      "source": [
        "indices = np.arange(len(labels))\n",
        "np.random.shuffle(indices)\n",
        "\n",
        "data = data[indices]\n",
        "labels = labels[indices]\n",
        "\n",
        "training_samples = 10000\n",
        "validation_samples = 10000\n",
        "\n",
        "x_train = data[:training_samples]\n",
        "y_train = labels[:training_samples]\n",
        "x_test = data[training_samples:training_samples + validation_samples]\n",
        "y_test = labels[training_samples:training_samples + validation_samples]"
      ],
      "execution_count": 34,
      "outputs": []
    },
    {
      "cell_type": "code",
      "metadata": {
        "colab": {
          "base_uri": "https://localhost:8080/"
        },
        "id": "q5-9VHA6DWcv",
        "outputId": "15e061f0-04bd-47e3-aceb-d787a3672787"
      },
      "source": [
        "print(x_train.shape)\n",
        "print(y_train.shape)\n",
        "print(x_test.shape)\n",
        "print(y_test.shape)"
      ],
      "execution_count": 35,
      "outputs": [
        {
          "output_type": "stream",
          "text": [
            "(10000, 100)\n",
            "(10000,)\n",
            "(10000, 100)\n",
            "(10000,)\n"
          ],
          "name": "stdout"
        }
      ]
    },
    {
      "cell_type": "markdown",
      "metadata": {
        "id": "k0sn0-qFE-Lr"
      },
      "source": [
        "### Tokenize IMDB Review"
      ]
    },
    {
      "cell_type": "code",
      "metadata": {
        "id": "3vZ9SwqsXkUP"
      },
      "source": [
        "from tensorflow.keras.datasets import imdb\n",
        "from tensorflow.keras.preprocessing import sequence\n",
        "\n",
        "max_features = 10000\n",
        "max_len = 500\n",
        "\n",
        "(x_train,y_train),(x_test,y_test)=imdb.load_data(num_words=max_features)\n",
        "x_train = sequence.pad_sequences(x_train,maxlen=max_len)\n",
        "x_test = sequence.pad_sequences(x_test,maxlen=max_len)"
      ],
      "execution_count": null,
      "outputs": []
    },
    {
      "cell_type": "markdown",
      "metadata": {
        "id": "sUhmewd-FE2e"
      },
      "source": [
        "### Model Building"
      ]
    },
    {
      "cell_type": "code",
      "metadata": {
        "colab": {
          "base_uri": "https://localhost:8080/"
        },
        "id": "kLm0pa9uX5U3",
        "outputId": "e9f63ef8-b66a-4128-8851-ebc023428be9"
      },
      "source": [
        "import tensorflow as tf\n",
        "from tensorflow.keras.optimizers import RMSprop\n",
        "\n",
        "model = tf.keras.Sequential([\n",
        "        tf.keras.layers.Embedding(max_words,128,input_length=maxlen),\n",
        "        tf.keras.layers.Conv1D(32,7,activation='relu'),\n",
        "        tf.keras.layers.MaxPooling1D(5),\n",
        "        tf.keras.layers.Conv1D(32,7,activation='relu'),\n",
        "        tf.keras.layers.GlobalMaxPool1D(),\n",
        "        tf.keras.layers.Dense(1,activation='sigmoid')\n",
        "])\n",
        "\n",
        "model.compile(optimizer=RMSprop(lr=1e-4),\n",
        "              loss = 'binary_crossentropy',\n",
        "              metrics=['acc']\n",
        "              )\n",
        "\n",
        "history = model.fit(x_train,y_train,\n",
        "          epochs=10,\n",
        "          batch_size=32,\n",
        "          validation_data=(x_test,y_test))"
      ],
      "execution_count": 36,
      "outputs": [
        {
          "output_type": "stream",
          "text": [
            "Epoch 1/10\n",
            "313/313 [==============================] - 13s 39ms/step - loss: 0.6929 - acc: 0.5125 - val_loss: 0.6908 - val_acc: 0.5943\n",
            "Epoch 2/10\n",
            "313/313 [==============================] - 12s 37ms/step - loss: 0.6842 - acc: 0.6810 - val_loss: 0.6821 - val_acc: 0.6583\n",
            "Epoch 3/10\n",
            "313/313 [==============================] - 12s 38ms/step - loss: 0.6641 - acc: 0.7681 - val_loss: 0.6427 - val_acc: 0.7084\n",
            "Epoch 4/10\n",
            "313/313 [==============================] - 12s 38ms/step - loss: 0.5995 - acc: 0.7817 - val_loss: 0.5471 - val_acc: 0.7539\n",
            "Epoch 5/10\n",
            "313/313 [==============================] - 12s 38ms/step - loss: 0.4758 - acc: 0.8138 - val_loss: 0.4675 - val_acc: 0.7843\n",
            "Epoch 6/10\n",
            "313/313 [==============================] - 12s 38ms/step - loss: 0.3817 - acc: 0.8403 - val_loss: 0.4404 - val_acc: 0.7933\n",
            "Epoch 7/10\n",
            "313/313 [==============================] - 12s 37ms/step - loss: 0.3102 - acc: 0.8747 - val_loss: 0.4209 - val_acc: 0.8089\n",
            "Epoch 8/10\n",
            "313/313 [==============================] - 12s 38ms/step - loss: 0.2719 - acc: 0.8918 - val_loss: 0.4131 - val_acc: 0.8152\n",
            "Epoch 9/10\n",
            "313/313 [==============================] - 12s 39ms/step - loss: 0.2446 - acc: 0.9066 - val_loss: 0.4159 - val_acc: 0.8179\n",
            "Epoch 10/10\n",
            "313/313 [==============================] - 12s 38ms/step - loss: 0.2245 - acc: 0.9085 - val_loss: 0.4195 - val_acc: 0.8187\n"
          ],
          "name": "stdout"
        }
      ]
    },
    {
      "cell_type": "code",
      "metadata": {
        "colab": {
          "base_uri": "https://localhost:8080/",
          "height": 545
        },
        "id": "W7UppiGLZJcG",
        "outputId": "3bf5536a-c684-4812-a18a-e5d5341a929f"
      },
      "source": [
        "import matplotlib.pyplot as plt\n",
        "\n",
        "acc=history.history['acc']\n",
        "val_acc = history.history['val_acc']\n",
        "loss = history.history['loss']\n",
        "val_loss = history.history['val_loss']\n",
        "\n",
        "epochs = range(len(acc))\n",
        "\n",
        "plt.plot(epochs, acc, 'bo', label='Training acc')\n",
        "plt.plot(epochs, val_acc, 'b', label='Validation acc')\n",
        "plt.title('Training and validation accuracy')\n",
        "plt.legend()\n",
        "plt.figure()\n",
        "plt.plot(epochs, loss, 'bo', label='Training loss')\n",
        "plt.plot(epochs, val_loss, 'b', label='Validation loss')\n",
        "plt.title('Training and validation loss')\n",
        "plt.legend()\n",
        "plt.show()"
      ],
      "execution_count": 37,
      "outputs": [
        {
          "output_type": "display_data",
          "data": {
            "image/png": "[encoded data removed]",
            "text/plain": [
              "<Figure size 432x288 with 1 Axes>"
            ]
          },
          "metadata": {
            "tags": [],
            "needs_background": "light"
          }
        },
        {
          "output_type": "display_data",
          "data": {
            "image/png": "[encoded data removed]",
            "text/plain": [
              "<Figure size 432x288 with 1 Axes>"
            ]
          },
          "metadata": {
            "tags": [],
            "needs_background": "light"
          }
        }
      ]
    },
    {
      "cell_type": "markdown",
      "metadata": {
        "id": "rQWWRDwYHl6p"
      },
      "source": [
        "### Tokenize test data"
      ]
    },
    {
      "cell_type": "code",
      "metadata": {
        "id": "kTu-LxVYddE0"
      },
      "source": [
        "test_dir = os.path.join(imdb_dir,'test')\n",
        "\n",
        "test_labels = []\n",
        "test_texts = []\n",
        "\n",
        "for label_type in ['neg','pos']:\n",
        "  dir_name = os.path.join(test_dir, label_type)\n",
        "  for fname in os.listdir(dir_name):\n",
        "    if fname[-4:] == '.txt':\n",
        "      f = open(os.path.join(dir_name,fname))\n",
        "      test_texts.append(f.read())\n",
        "      f.close()\n",
        "      if label_type == 'neg':\n",
        "        test_labels.append(0)\n",
        "      else:\n",
        "        test_labels.append(1)"
      ],
      "execution_count": 39,
      "outputs": []
    },
    {
      "cell_type": "code",
      "metadata": {
        "id": "eBKO6dKJHrSf"
      },
      "source": [
        "sequence = tokenizer.texts_to_sequences(test_texts)\n",
        "x_test = pad_sequences(sequence)\n",
        "y_test = np.asarray(test_labels)"
      ],
      "execution_count": 41,
      "outputs": []
    },
    {
      "cell_type": "code",
      "metadata": {
        "colab": {
          "base_uri": "https://localhost:8080/"
        },
        "id": "MRTq7uupIKdq",
        "outputId": "03f638de-66db-4abb-df96-08a5a3aced5a"
      },
      "source": [
        "model.evaluate(x_test,y_test)"
      ],
      "execution_count": 42,
      "outputs": [
        {
          "output_type": "stream",
          "text": [
            "WARNING:tensorflow:Model was constructed with shape (None, 100) for input KerasTensor(type_spec=TensorSpec(shape=(None, 100), dtype=tf.float32, name='embedding_3_input'), name='embedding_3_input', description=\"created by layer 'embedding_3_input'\"), but it was called on an input with incompatible shape (None, 2195).\n",
            "782/782 [==============================] - 80s 101ms/step - loss: 0.3570 - acc: 0.8436\n"
          ],
          "name": "stdout"
        },
        {
          "output_type": "execute_result",
          "data": {
            "text/plain": [
              "[0.3569970428943634, 0.8436400294303894]"
            ]
          },
          "metadata": {
            "tags": []
          },
          "execution_count": 42
        }
      ]
    },
    {
      "cell_type": "code",
      "metadata": {
        "id": "zbbB0ivXIPkg"
      },
      "source": [
        ""
      ],
      "execution_count": null,
      "outputs": []
    }
  ]
}