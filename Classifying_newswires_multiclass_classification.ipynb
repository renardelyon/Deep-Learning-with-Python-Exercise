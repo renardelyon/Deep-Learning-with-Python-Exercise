{
  "nbformat": 4,
  "nbformat_minor": 0,
  "metadata": {
    "colab": {
      "name": "Classifying newswires: multiclass classification.ipynb",
      "provenance": [],
      "authorship_tag": "ABX9TyOsOiUwjmgDWFAgXD4bBenQ",
      "include_colab_link": true
    },
    "kernelspec": {
      "name": "python3",
      "display_name": "Python 3"
    },
    "language_info": {
      "name": "python"
    }
  },
  "cells": [
    {
      "cell_type": "markdown",
      "metadata": {
        "id": "view-in-github",
        "colab_type": "text"
      },
      "source": [
        "<a href=\"https://colab.research.google.com/github/renardelyon/Deep-Learning-with-Python-Exercise/blob/main/Classifying_newswires_multiclass_classification.ipynb\" target=\"_parent\"><img src=\"https://colab.research.google.com/assets/colab-badge.svg\" alt=\"Open In Colab\"/></a>"
      ]
    },
    {
      "cell_type": "code",
      "metadata": {
        "colab": {
          "base_uri": "https://localhost:8080/"
        },
        "id": "e6FxcDLlWtOP",
        "outputId": "27822481-1b39-4f95-c315-174c1b92e634"
      },
      "source": [
        "from tensorflow.keras.datasets import reuters\n",
        "\n",
        "(train_features,train_label),(test_features,test_label)=reuters.load_data(num_words=10000)"
      ],
      "execution_count": 17,
      "outputs": [
        {
          "output_type": "stream",
          "text": [
            "/usr/local/lib/python3.7/dist-packages/tensorflow/python/keras/datasets/reuters.py:148: VisibleDeprecationWarning: Creating an ndarray from ragged nested sequences (which is a list-or-tuple of lists-or-tuples-or ndarrays with different lengths or shapes) is deprecated. If you meant to do this, you must specify 'dtype=object' when creating the ndarray\n",
            "  x_train, y_train = np.array(xs[:idx]), np.array(labels[:idx])\n",
            "/usr/local/lib/python3.7/dist-packages/tensorflow/python/keras/datasets/reuters.py:149: VisibleDeprecationWarning: Creating an ndarray from ragged nested sequences (which is a list-or-tuple of lists-or-tuples-or ndarrays with different lengths or shapes) is deprecated. If you meant to do this, you must specify 'dtype=object' when creating the ndarray\n",
            "  x_test, y_test = np.array(xs[idx:]), np.array(labels[idx:])\n"
          ],
          "name": "stderr"
        }
      ]
    },
    {
      "cell_type": "code",
      "metadata": {
        "id": "GWsz8GNDXFbN"
      },
      "source": [
        "word_index = reuters.get_word_index()\n",
        "reverse_word_index = dict(\n",
        "    [(value,key) for (key,value) in word_index.items()])\n",
        "word_encoder = ' '.join([reverse_word_index.get(i-3,'?') for i in train_features[0]])"
      ],
      "execution_count": 18,
      "outputs": []
    },
    {
      "cell_type": "code",
      "metadata": {
        "id": "P0UtqQiwXJKM"
      },
      "source": [
        "import numpy as np\n",
        "\n",
        "def vectorize_sequences (sequences,dimension = 10000):\n",
        "  result = np.zeros((len(sequences),dimension))\n",
        "  for i,sequence in enumerate(sequences):\n",
        "    result[i,sequence]=1\n",
        "  return result\n",
        "\n",
        "X_train = vectorize_sequences(train_features)\n",
        "X_test = vectorize_sequences(test_features)\n",
        "y_train = vectorize_sequences(train_label,dimension=46)\n",
        "y_test = vectorize_sequences(test_label,dimension=46)"
      ],
      "execution_count": 19,
      "outputs": []
    },
    {
      "cell_type": "code",
      "metadata": {
        "id": "HsXhxffIXnna"
      },
      "source": [
        "import numpy as np\n",
        "x = np.zeros((10,10))"
      ],
      "execution_count": 13,
      "outputs": []
    },
    {
      "cell_type": "code",
      "metadata": {
        "colab": {
          "base_uri": "https://localhost:8080/"
        },
        "id": "0IjnAbDBZUqt",
        "outputId": "014ccc53-bc84-4db2-a701-220403799292"
      },
      "source": [
        "import tensorflow as tf\n",
        "\n",
        "model = tf.keras.Sequential([\n",
        "        tf.keras.layers.Dense(128,activation='relu', input_shape=[X_train.shape[1]]),\n",
        "        tf.keras.layers.Dense(64,activation='relu'),\n",
        "        tf.keras.layers.Dense(64,activation='relu'),\n",
        "        tf.keras.layers.Dense(46,activation='softmax')\n",
        "])\n",
        "\n",
        "model.summary()"
      ],
      "execution_count": 58,
      "outputs": [
        {
          "output_type": "stream",
          "text": [
            "Model: \"sequential_8\"\n",
            "_________________________________________________________________\n",
            "Layer (type)                 Output Shape              Param #   \n",
            "=================================================================\n",
            "dense_25 (Dense)             (None, 128)               1280128   \n",
            "_________________________________________________________________\n",
            "dense_26 (Dense)             (None, 64)                8256      \n",
            "_________________________________________________________________\n",
            "dense_27 (Dense)             (None, 64)                4160      \n",
            "_________________________________________________________________\n",
            "dense_28 (Dense)             (None, 46)                2990      \n",
            "=================================================================\n",
            "Total params: 1,295,534\n",
            "Trainable params: 1,295,534\n",
            "Non-trainable params: 0\n",
            "_________________________________________________________________\n"
          ],
          "name": "stdout"
        }
      ]
    },
    {
      "cell_type": "code",
      "metadata": {
        "id": "rV-Htr96ZwtG"
      },
      "source": [
        "model.compile(loss='categorical_crossentropy',\n",
        "              metrics='accuracy')"
      ],
      "execution_count": 59,
      "outputs": []
    },
    {
      "cell_type": "code",
      "metadata": {
        "colab": {
          "base_uri": "https://localhost:8080/"
        },
        "id": "RRPzQGged0pK",
        "outputId": "09ed7fde-e5eb-412b-d37e-6dd84a7995d4"
      },
      "source": [
        "history = model.fit(X_train,\n",
        "                    y_train,\n",
        "                    epochs=9,\n",
        "                    validation_split=0.2,\n",
        "                    shuffle=True,\n",
        "                    batch_size=128).history"
      ],
      "execution_count": 60,
      "outputs": [
        {
          "output_type": "stream",
          "text": [
            "Epoch 1/9\n",
            "57/57 [==============================] - 2s 29ms/step - loss: 2.3385 - accuracy: 0.4867 - val_loss: 1.3226 - val_accuracy: 0.6784\n",
            "Epoch 2/9\n",
            "57/57 [==============================] - 1s 26ms/step - loss: 0.9494 - accuracy: 0.7839 - val_loss: 1.0591 - val_accuracy: 0.7568\n",
            "Epoch 3/9\n",
            "57/57 [==============================] - 1s 26ms/step - loss: 0.5666 - accuracy: 0.8664 - val_loss: 1.5145 - val_accuracy: 0.6594\n",
            "Epoch 4/9\n",
            "57/57 [==============================] - 1s 26ms/step - loss: 0.3834 - accuracy: 0.9116 - val_loss: 0.9756 - val_accuracy: 0.7958\n",
            "Epoch 5/9\n",
            "57/57 [==============================] - 1s 26ms/step - loss: 0.2346 - accuracy: 0.9485 - val_loss: 1.1060 - val_accuracy: 0.7780\n",
            "Epoch 6/9\n",
            "57/57 [==============================] - 2s 27ms/step - loss: 0.1833 - accuracy: 0.9552 - val_loss: 1.0856 - val_accuracy: 0.8030\n",
            "Epoch 7/9\n",
            "57/57 [==============================] - 1s 26ms/step - loss: 0.1531 - accuracy: 0.9596 - val_loss: 1.1462 - val_accuracy: 0.7947\n",
            "Epoch 8/9\n",
            "57/57 [==============================] - 1s 26ms/step - loss: 0.1234 - accuracy: 0.9649 - val_loss: 1.2072 - val_accuracy: 0.7813\n",
            "Epoch 9/9\n",
            "57/57 [==============================] - 1s 26ms/step - loss: 0.1221 - accuracy: 0.9642 - val_loss: 1.2872 - val_accuracy: 0.7852\n"
          ],
          "name": "stdout"
        }
      ]
    },
    {
      "cell_type": "code",
      "metadata": {
        "colab": {
          "base_uri": "https://localhost:8080/",
          "height": 606
        },
        "id": "RKGzN3n8eG22",
        "outputId": "44ba6900-0d1b-4b94-e926-fd0cbe55d7e5"
      },
      "source": [
        "import matplotlib.pyplot as plt\n",
        "\n",
        "loss = history['loss']\n",
        "val_loss = history['val_loss']\n",
        "accuracy = history['accuracy']\n",
        "val_accuracy = history['val_accuracy']\n",
        "\n",
        "fig, ax = plt.subplots(2,1,sharex=True,figsize=(10,10))\n",
        "\n",
        "epoch = range(len(loss))\n",
        "ax[0].plot(epoch,loss,'b-',label='loss')\n",
        "ax[0].plot(epoch,val_loss,'bo',label='val_loss')\n",
        "ax[1].plot(epoch,accuracy,'b-',label='accuracy')\n",
        "ax[1].plot(epoch,val_accuracy,'bo',label='val_accuracy')\n",
        "for axs in ax.flat:\n",
        "    axs.set(xlabel='epoch', ylabel='value')\n",
        "ax[0].legend(loc=1)\n",
        "ax[1].legend(loc=1)\n",
        "plt.show()"
      ],
      "execution_count": 61,
      "outputs": [
        {
          "output_type": "display_data",
          "data": {
            "image/png": "[encoded data removed]",
            "text/plain": [
              "<Figure size 720x720 with 2 Axes>"
            ]
          },
          "metadata": {
            "tags": [],
            "needs_background": "light"
          }
        }
      ]
    },
    {
      "cell_type": "code",
      "metadata": {
        "colab": {
          "base_uri": "https://localhost:8080/"
        },
        "id": "GwlRrRaCfMqg",
        "outputId": "3447338b-b54f-4b94-e44f-c2b9f1695016"
      },
      "source": [
        "result = model.evaluate(X_test,y_test)\n",
        "print(f'loss:{result[0]}\\naccuracy:{result[1]}')"
      ],
      "execution_count": 62,
      "outputs": [
        {
          "output_type": "stream",
          "text": [
            "71/71 [==============================] - 0s 3ms/step - loss: 1.3369 - accuracy: 0.7769\n",
            "loss:1.336905598640442\n",
            "accuracy:0.7769367694854736\n"
          ],
          "name": "stdout"
        }
      ]
    },
    {
      "cell_type": "code",
      "metadata": {
        "id": "pESNb7YjgCmW"
      },
      "source": [
        ""
      ],
      "execution_count": 62,
      "outputs": []
    }
  ]
}